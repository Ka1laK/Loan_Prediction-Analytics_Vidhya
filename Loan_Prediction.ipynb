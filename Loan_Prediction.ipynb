{
 "cells": [
  {
   "cell_type": "markdown",
   "metadata": {
    "id": "DOGa617qS5Ly"
   },
   "source": [
    "# <u>LOAN PREDICTION</u>"
   ]
  },
  {
   "cell_type": "markdown",
   "metadata": {},
   "source": [
    "## Caso de uso"
   ]
  },
  {
   "cell_type": "markdown",
   "metadata": {
    "executionInfo": {
     "elapsed": 294,
     "status": "ok",
     "timestamp": 1631346500408,
     "user": {
      "displayName": "ANDRE OMAR CHAVEZ PANDURO",
      "photoUrl": "https://lh3.googleusercontent.com/a-/AOh14GhhoQ1kbFXrI1LHS5aCbnzbQoTSVMlrpsL1-iED=s64",
      "userId": "14331399592622880507"
     },
     "user_tz": 300
    },
    "id": "0YiISVrXTP5y"
   },
   "source": [
    "<img src = 'https://datahack-prod.s3.ap-south-1.amazonaws.com/__sized__/contest_cover/loanpre-thumbnail-1200x1200.png'>"
   ]
  },
  {
   "cell_type": "markdown",
   "metadata": {
    "id": "sUu4EsJ0b9y2"
   },
   "source": [
    "### Importación de librerías iniciales"
   ]
  },
  {
   "cell_type": "code",
   "execution_count": 1,
   "metadata": {
    "executionInfo": {
     "elapsed": 783,
     "status": "ok",
     "timestamp": 1631341378824,
     "user": {
      "displayName": "ANDRE OMAR CHAVEZ PANDURO",
      "photoUrl": "https://lh3.googleusercontent.com/a-/AOh14GhhoQ1kbFXrI1LHS5aCbnzbQoTSVMlrpsL1-iED=s64",
      "userId": "14331399592622880507"
     },
     "user_tz": 300
    },
    "id": "AnIT4fBaS5MD",
    "tags": []
   },
   "outputs": [],
   "source": [
    "import warnings\n",
    "warnings.filterwarnings(\"ignore\")\n",
    "\n",
    "#Importar las librerías necesarias en Python.\n",
    "import pandas as pd      ## Manejo de dataframes o set de datos\n",
    "import numpy as np       ## Todo lo referente a trabajar con vectores y matrices\n",
    "from scipy import stats  ## Herramientas y algoritmos matemáticos para python\n",
    "\n",
    "import seaborn as sns\n",
    "import matplotlib.pyplot as plt"
   ]
  },
  {
   "cell_type": "markdown",
   "metadata": {
    "id": "asQF3BoeS5MI"
   },
   "source": [
    "Usamos una semilla a lo largo de todo el notebook para los procesos aleatorios"
   ]
  },
  {
   "cell_type": "code",
   "execution_count": 2,
   "metadata": {
    "tags": []
   },
   "outputs": [],
   "source": [
    "seed = 2023"
   ]
  },
  {
   "cell_type": "code",
   "execution_count": 3,
   "metadata": {
    "tags": []
   },
   "outputs": [],
   "source": [
    "target = 'Loan_Status'"
   ]
  },
  {
   "cell_type": "markdown",
   "metadata": {},
   "source": [
    "El estado del préstamo puede tener dos valores: Sí o NO. \n",
    "\n",
    "Sí: si se aprueba el préstamo \n",
    "\n",
    "NO: si no se aprueba el préstamo \n",
    "\n",
    "Entonces, al usar el conjunto de datos de entrenamiento, entrenaremos nuestro modelo e intentaremos predecir nuestra columna de destino que es \"Loan_Status\" en el conjunto de datos de prueba."
   ]
  },
  {
   "cell_type": "markdown",
   "metadata": {
    "id": "UnPnopgUS5MN"
   },
   "source": [
    "### **Lectura Inicial de base de datos**"
   ]
  },
  {
   "cell_type": "markdown",
   "metadata": {},
   "source": [
    "Utilizaremos las bases de este caso ya preprocesadas en el notebook 1 Procesamiento de datos. Estas bases ya recibieron el siguiente tratamiento previo:\n",
    "\n",
    "1. División train test 80/20\n",
    "2. Tratamiento de nulos\n",
    "3. Labeling de variables\n",
    "4. Encoding de variables categóricas (dummys)\n",
    "5. Tratamiento de valores extremos y outliers\n",
    "6. Creación de nuevas variables\n",
    "7. Reescalamiento final de la base\n"
   ]
  },
  {
   "cell_type": "code",
   "execution_count": 4,
   "metadata": {
    "executionInfo": {
     "elapsed": 1574,
     "status": "ok",
     "timestamp": 1631341381955,
     "user": {
      "displayName": "ANDRE OMAR CHAVEZ PANDURO",
      "photoUrl": "https://lh3.googleusercontent.com/a-/AOh14GhhoQ1kbFXrI1LHS5aCbnzbQoTSVMlrpsL1-iED=s64",
      "userId": "14331399592622880507"
     },
     "user_tz": 300
    },
    "id": "pJ3QaE1oS5MP",
    "tags": []
   },
   "outputs": [],
   "source": [
    "train = pd.read_csv('data/train_preprocesed.csv')\n",
    "test = pd.read_csv('data/test_preprocesed.csv')"
   ]
  },
  {
   "cell_type": "code",
   "execution_count": 5,
   "metadata": {
    "executionInfo": {
     "elapsed": 287,
     "status": "ok",
     "timestamp": 1631346514989,
     "user": {
      "displayName": "ANDRE OMAR CHAVEZ PANDURO",
      "photoUrl": "https://lh3.googleusercontent.com/a-/AOh14GhhoQ1kbFXrI1LHS5aCbnzbQoTSVMlrpsL1-iED=s64",
      "userId": "14331399592622880507"
     },
     "user_tz": 300
    },
    "id": "cS6x4KsDS5MV",
    "tags": []
   },
   "outputs": [
    {
     "data": {
      "text/plain": [
       "(491, 19)"
      ]
     },
     "execution_count": 5,
     "metadata": {},
     "output_type": "execute_result"
    }
   ],
   "source": [
    "# Vemos la dimensionalidad de la base train\n",
    "train.shape"
   ]
  },
  {
   "cell_type": "code",
   "execution_count": 6,
   "metadata": {},
   "outputs": [
    {
     "data": {
      "text/plain": [
       "(123, 19)"
      ]
     },
     "execution_count": 6,
     "metadata": {},
     "output_type": "execute_result"
    }
   ],
   "source": [
    "# Vemos la dimensionalidad de la base test\n",
    "test.shape"
   ]
  },
  {
   "cell_type": "code",
   "execution_count": 7,
   "metadata": {
    "executionInfo": {
     "elapsed": 304,
     "status": "ok",
     "timestamp": 1631346519221,
     "user": {
      "displayName": "ANDRE OMAR CHAVEZ PANDURO",
      "photoUrl": "https://lh3.googleusercontent.com/a-/AOh14GhhoQ1kbFXrI1LHS5aCbnzbQoTSVMlrpsL1-iED=s64",
      "userId": "14331399592622880507"
     },
     "user_tz": 300
    },
    "id": "zm4WmZlxS5Me",
    "tags": []
   },
   "outputs": [
    {
     "data": {
      "text/html": [
       "<div>\n",
       "<style scoped>\n",
       "    .dataframe tbody tr th:only-of-type {\n",
       "        vertical-align: middle;\n",
       "    }\n",
       "\n",
       "    .dataframe tbody tr th {\n",
       "        vertical-align: top;\n",
       "    }\n",
       "\n",
       "    .dataframe thead th {\n",
       "        text-align: right;\n",
       "    }\n",
       "</style>\n",
       "<table border=\"1\" class=\"dataframe\">\n",
       "  <thead>\n",
       "    <tr style=\"text-align: right;\">\n",
       "      <th></th>\n",
       "      <th>Dependents</th>\n",
       "      <th>ApplicantIncome</th>\n",
       "      <th>CoapplicantIncome</th>\n",
       "      <th>LoanAmount</th>\n",
       "      <th>Loan_Amount_Term</th>\n",
       "      <th>Credit_History</th>\n",
       "      <th>Gender_Male</th>\n",
       "      <th>Married_Yes</th>\n",
       "      <th>Education_Not Graduate</th>\n",
       "      <th>Self_Employed_Yes</th>\n",
       "      <th>Property_Area_Semiurban</th>\n",
       "      <th>Property_Area_Urban</th>\n",
       "      <th>TotalIncome</th>\n",
       "      <th>TotalIncomeByPerson</th>\n",
       "      <th>Cuota</th>\n",
       "      <th>%Cuota</th>\n",
       "      <th>log_ApplicantIncome</th>\n",
       "      <th>log_TotalIncome</th>\n",
       "      <th>Loan_Status</th>\n",
       "    </tr>\n",
       "  </thead>\n",
       "  <tbody>\n",
       "    <tr>\n",
       "      <th>0</th>\n",
       "      <td>0.000000</td>\n",
       "      <td>0.041586</td>\n",
       "      <td>0.046296</td>\n",
       "      <td>0.094067</td>\n",
       "      <td>0.729730</td>\n",
       "      <td>1.0</td>\n",
       "      <td>1.0</td>\n",
       "      <td>0.0</td>\n",
       "      <td>0.0</td>\n",
       "      <td>0.0</td>\n",
       "      <td>0.0</td>\n",
       "      <td>1.0</td>\n",
       "      <td>0.060630</td>\n",
       "      <td>0.092567</td>\n",
       "      <td>0.042180</td>\n",
       "      <td>0.036690</td>\n",
       "      <td>0.211970</td>\n",
       "      <td>0.296906</td>\n",
       "      <td>0</td>\n",
       "    </tr>\n",
       "    <tr>\n",
       "      <th>1</th>\n",
       "      <td>0.000000</td>\n",
       "      <td>0.046800</td>\n",
       "      <td>0.000000</td>\n",
       "      <td>0.130246</td>\n",
       "      <td>0.729730</td>\n",
       "      <td>0.0</td>\n",
       "      <td>0.0</td>\n",
       "      <td>0.0</td>\n",
       "      <td>0.0</td>\n",
       "      <td>0.0</td>\n",
       "      <td>1.0</td>\n",
       "      <td>0.0</td>\n",
       "      <td>0.016873</td>\n",
       "      <td>0.040946</td>\n",
       "      <td>0.058404</td>\n",
       "      <td>0.098886</td>\n",
       "      <td>0.230720</td>\n",
       "      <td>0.116246</td>\n",
       "      <td>1</td>\n",
       "    </tr>\n",
       "    <tr>\n",
       "      <th>2</th>\n",
       "      <td>0.666667</td>\n",
       "      <td>0.651745</td>\n",
       "      <td>0.024336</td>\n",
       "      <td>0.204052</td>\n",
       "      <td>0.729730</td>\n",
       "      <td>1.0</td>\n",
       "      <td>1.0</td>\n",
       "      <td>1.0</td>\n",
       "      <td>0.0</td>\n",
       "      <td>1.0</td>\n",
       "      <td>0.0</td>\n",
       "      <td>0.0</td>\n",
       "      <td>0.390230</td>\n",
       "      <td>0.146999</td>\n",
       "      <td>0.091499</td>\n",
       "      <td>0.013618</td>\n",
       "      <td>0.872503</td>\n",
       "      <td>0.737429</td>\n",
       "      <td>0</td>\n",
       "    </tr>\n",
       "    <tr>\n",
       "      <th>3</th>\n",
       "      <td>1.000000</td>\n",
       "      <td>0.087040</td>\n",
       "      <td>0.000000</td>\n",
       "      <td>0.150507</td>\n",
       "      <td>0.729730</td>\n",
       "      <td>1.0</td>\n",
       "      <td>1.0</td>\n",
       "      <td>1.0</td>\n",
       "      <td>1.0</td>\n",
       "      <td>0.0</td>\n",
       "      <td>0.0</td>\n",
       "      <td>0.0</td>\n",
       "      <td>0.040073</td>\n",
       "      <td>0.001930</td>\n",
       "      <td>0.067489</td>\n",
       "      <td>0.076764</td>\n",
       "      <td>0.346811</td>\n",
       "      <td>0.225431</td>\n",
       "      <td>0</td>\n",
       "    </tr>\n",
       "    <tr>\n",
       "      <th>4</th>\n",
       "      <td>0.666667</td>\n",
       "      <td>0.011521</td>\n",
       "      <td>0.026064</td>\n",
       "      <td>0.011577</td>\n",
       "      <td>0.189189</td>\n",
       "      <td>1.0</td>\n",
       "      <td>1.0</td>\n",
       "      <td>1.0</td>\n",
       "      <td>0.0</td>\n",
       "      <td>0.0</td>\n",
       "      <td>0.0</td>\n",
       "      <td>1.0</td>\n",
       "      <td>0.022861</td>\n",
       "      <td>0.002538</td>\n",
       "      <td>0.027255</td>\n",
       "      <td>0.042599</td>\n",
       "      <td>0.074347</td>\n",
       "      <td>0.148516</td>\n",
       "      <td>0</td>\n",
       "    </tr>\n",
       "  </tbody>\n",
       "</table>\n",
       "</div>"
      ],
      "text/plain": [
       "   Dependents  ApplicantIncome  CoapplicantIncome  LoanAmount  \\\n",
       "0    0.000000         0.041586           0.046296    0.094067   \n",
       "1    0.000000         0.046800           0.000000    0.130246   \n",
       "2    0.666667         0.651745           0.024336    0.204052   \n",
       "3    1.000000         0.087040           0.000000    0.150507   \n",
       "4    0.666667         0.011521           0.026064    0.011577   \n",
       "\n",
       "   Loan_Amount_Term  Credit_History  Gender_Male  Married_Yes  \\\n",
       "0          0.729730             1.0          1.0          0.0   \n",
       "1          0.729730             0.0          0.0          0.0   \n",
       "2          0.729730             1.0          1.0          1.0   \n",
       "3          0.729730             1.0          1.0          1.0   \n",
       "4          0.189189             1.0          1.0          1.0   \n",
       "\n",
       "   Education_Not Graduate  Self_Employed_Yes  Property_Area_Semiurban  \\\n",
       "0                     0.0                0.0                      0.0   \n",
       "1                     0.0                0.0                      1.0   \n",
       "2                     0.0                1.0                      0.0   \n",
       "3                     1.0                0.0                      0.0   \n",
       "4                     0.0                0.0                      0.0   \n",
       "\n",
       "   Property_Area_Urban  TotalIncome  TotalIncomeByPerson     Cuota    %Cuota  \\\n",
       "0                  1.0     0.060630             0.092567  0.042180  0.036690   \n",
       "1                  0.0     0.016873             0.040946  0.058404  0.098886   \n",
       "2                  0.0     0.390230             0.146999  0.091499  0.013618   \n",
       "3                  0.0     0.040073             0.001930  0.067489  0.076764   \n",
       "4                  1.0     0.022861             0.002538  0.027255  0.042599   \n",
       "\n",
       "   log_ApplicantIncome  log_TotalIncome  Loan_Status  \n",
       "0             0.211970         0.296906            0  \n",
       "1             0.230720         0.116246            1  \n",
       "2             0.872503         0.737429            0  \n",
       "3             0.346811         0.225431            0  \n",
       "4             0.074347         0.148516            0  "
      ]
     },
     "execution_count": 7,
     "metadata": {},
     "output_type": "execute_result"
    }
   ],
   "source": [
    "# Visualizacion Global de los datos train\n",
    "train.head()"
   ]
  },
  {
   "cell_type": "code",
   "execution_count": 8,
   "metadata": {},
   "outputs": [
    {
     "data": {
      "text/html": [
       "<div>\n",
       "<style scoped>\n",
       "    .dataframe tbody tr th:only-of-type {\n",
       "        vertical-align: middle;\n",
       "    }\n",
       "\n",
       "    .dataframe tbody tr th {\n",
       "        vertical-align: top;\n",
       "    }\n",
       "\n",
       "    .dataframe thead th {\n",
       "        text-align: right;\n",
       "    }\n",
       "</style>\n",
       "<table border=\"1\" class=\"dataframe\">\n",
       "  <thead>\n",
       "    <tr style=\"text-align: right;\">\n",
       "      <th></th>\n",
       "      <th>Dependents</th>\n",
       "      <th>ApplicantIncome</th>\n",
       "      <th>CoapplicantIncome</th>\n",
       "      <th>LoanAmount</th>\n",
       "      <th>Loan_Amount_Term</th>\n",
       "      <th>Credit_History</th>\n",
       "      <th>Gender_Male</th>\n",
       "      <th>Married_Yes</th>\n",
       "      <th>Education_Not Graduate</th>\n",
       "      <th>Self_Employed_Yes</th>\n",
       "      <th>Property_Area_Semiurban</th>\n",
       "      <th>Property_Area_Urban</th>\n",
       "      <th>TotalIncome</th>\n",
       "      <th>TotalIncomeByPerson</th>\n",
       "      <th>Cuota</th>\n",
       "      <th>%Cuota</th>\n",
       "      <th>log_ApplicantIncome</th>\n",
       "      <th>log_TotalIncome</th>\n",
       "      <th>Loan_Status</th>\n",
       "    </tr>\n",
       "  </thead>\n",
       "  <tbody>\n",
       "    <tr>\n",
       "      <th>0</th>\n",
       "      <td>0.000000</td>\n",
       "      <td>0.062021</td>\n",
       "      <td>0.0000</td>\n",
       "      <td>0.106383</td>\n",
       "      <td>1.000000</td>\n",
       "      <td>1.0</td>\n",
       "      <td>1.0</td>\n",
       "      <td>0.0</td>\n",
       "      <td>0.0</td>\n",
       "      <td>0.0</td>\n",
       "      <td>1.0</td>\n",
       "      <td>0.0</td>\n",
       "      <td>0.029159</td>\n",
       "      <td>0.083882</td>\n",
       "      <td>0.010929</td>\n",
       "      <td>0.054989</td>\n",
       "      <td>0.279810</td>\n",
       "      <td>0.119676</td>\n",
       "      <td>1</td>\n",
       "    </tr>\n",
       "    <tr>\n",
       "      <th>1</th>\n",
       "      <td>0.000000</td>\n",
       "      <td>0.221089</td>\n",
       "      <td>0.2208</td>\n",
       "      <td>0.306738</td>\n",
       "      <td>0.743590</td>\n",
       "      <td>0.0</td>\n",
       "      <td>1.0</td>\n",
       "      <td>0.0</td>\n",
       "      <td>0.0</td>\n",
       "      <td>0.0</td>\n",
       "      <td>0.0</td>\n",
       "      <td>0.0</td>\n",
       "      <td>0.385990</td>\n",
       "      <td>0.420599</td>\n",
       "      <td>0.052520</td>\n",
       "      <td>0.033955</td>\n",
       "      <td>0.569021</td>\n",
       "      <td>0.677390</td>\n",
       "      <td>1</td>\n",
       "    </tr>\n",
       "    <tr>\n",
       "      <th>2</th>\n",
       "      <td>0.000000</td>\n",
       "      <td>0.209189</td>\n",
       "      <td>0.0000</td>\n",
       "      <td>0.186170</td>\n",
       "      <td>0.743590</td>\n",
       "      <td>1.0</td>\n",
       "      <td>1.0</td>\n",
       "      <td>0.0</td>\n",
       "      <td>0.0</td>\n",
       "      <td>0.0</td>\n",
       "      <td>0.0</td>\n",
       "      <td>1.0</td>\n",
       "      <td>0.181483</td>\n",
       "      <td>0.227620</td>\n",
       "      <td>0.031876</td>\n",
       "      <td>0.042957</td>\n",
       "      <td>0.554557</td>\n",
       "      <td>0.455514</td>\n",
       "      <td>0</td>\n",
       "    </tr>\n",
       "    <tr>\n",
       "      <th>3</th>\n",
       "      <td>0.000000</td>\n",
       "      <td>0.100285</td>\n",
       "      <td>0.0000</td>\n",
       "      <td>0.092199</td>\n",
       "      <td>0.743590</td>\n",
       "      <td>1.0</td>\n",
       "      <td>0.0</td>\n",
       "      <td>0.0</td>\n",
       "      <td>0.0</td>\n",
       "      <td>0.0</td>\n",
       "      <td>0.0</td>\n",
       "      <td>1.0</td>\n",
       "      <td>0.068764</td>\n",
       "      <td>0.121254</td>\n",
       "      <td>0.015786</td>\n",
       "      <td>0.048193</td>\n",
       "      <td>0.377229</td>\n",
       "      <td>0.238757</td>\n",
       "      <td>0</td>\n",
       "    </tr>\n",
       "    <tr>\n",
       "      <th>4</th>\n",
       "      <td>0.333333</td>\n",
       "      <td>0.124588</td>\n",
       "      <td>0.0000</td>\n",
       "      <td>0.024823</td>\n",
       "      <td>0.487179</td>\n",
       "      <td>1.0</td>\n",
       "      <td>1.0</td>\n",
       "      <td>1.0</td>\n",
       "      <td>0.0</td>\n",
       "      <td>0.0</td>\n",
       "      <td>0.0</td>\n",
       "      <td>1.0</td>\n",
       "      <td>0.093919</td>\n",
       "      <td>0.063101</td>\n",
       "      <td>0.011840</td>\n",
       "      <td>0.032302</td>\n",
       "      <td>0.426368</td>\n",
       "      <td>0.298821</td>\n",
       "      <td>0</td>\n",
       "    </tr>\n",
       "  </tbody>\n",
       "</table>\n",
       "</div>"
      ],
      "text/plain": [
       "   Dependents  ApplicantIncome  CoapplicantIncome  LoanAmount  \\\n",
       "0    0.000000         0.062021             0.0000    0.106383   \n",
       "1    0.000000         0.221089             0.2208    0.306738   \n",
       "2    0.000000         0.209189             0.0000    0.186170   \n",
       "3    0.000000         0.100285             0.0000    0.092199   \n",
       "4    0.333333         0.124588             0.0000    0.024823   \n",
       "\n",
       "   Loan_Amount_Term  Credit_History  Gender_Male  Married_Yes  \\\n",
       "0          1.000000             1.0          1.0          0.0   \n",
       "1          0.743590             0.0          1.0          0.0   \n",
       "2          0.743590             1.0          1.0          0.0   \n",
       "3          0.743590             1.0          0.0          0.0   \n",
       "4          0.487179             1.0          1.0          1.0   \n",
       "\n",
       "   Education_Not Graduate  Self_Employed_Yes  Property_Area_Semiurban  \\\n",
       "0                     0.0                0.0                      1.0   \n",
       "1                     0.0                0.0                      0.0   \n",
       "2                     0.0                0.0                      0.0   \n",
       "3                     0.0                0.0                      0.0   \n",
       "4                     0.0                0.0                      0.0   \n",
       "\n",
       "   Property_Area_Urban  TotalIncome  TotalIncomeByPerson     Cuota    %Cuota  \\\n",
       "0                  0.0     0.029159             0.083882  0.010929  0.054989   \n",
       "1                  0.0     0.385990             0.420599  0.052520  0.033955   \n",
       "2                  1.0     0.181483             0.227620  0.031876  0.042957   \n",
       "3                  1.0     0.068764             0.121254  0.015786  0.048193   \n",
       "4                  1.0     0.093919             0.063101  0.011840  0.032302   \n",
       "\n",
       "   log_ApplicantIncome  log_TotalIncome  Loan_Status  \n",
       "0             0.279810         0.119676            1  \n",
       "1             0.569021         0.677390            1  \n",
       "2             0.554557         0.455514            0  \n",
       "3             0.377229         0.238757            0  \n",
       "4             0.426368         0.298821            0  "
      ]
     },
     "execution_count": 8,
     "metadata": {},
     "output_type": "execute_result"
    }
   ],
   "source": [
    "# Visualizacion Global de los datos test\n",
    "test.head()"
   ]
  },
  {
   "cell_type": "markdown",
   "metadata": {},
   "source": [
    "Almacenamos la columna Loan_Status (target) en y_train y y_test respectivamente"
   ]
  },
  {
   "cell_type": "code",
   "execution_count": 9,
   "metadata": {
    "tags": []
   },
   "outputs": [],
   "source": [
    "X_train = train.drop(target, axis =1)\n",
    "y_train = train[target]\n",
    "\n",
    "X_test = test.drop(target, axis =1)\n",
    "y_test = test[target]"
   ]
  },
  {
   "cell_type": "markdown",
   "metadata": {
    "id": "D0QXbFmhWsHb"
   },
   "source": [
    "### Regresion Logistica Binaria"
   ]
  },
  {
   "cell_type": "code",
   "execution_count": 18,
   "metadata": {},
   "outputs": [],
   "source": [
    "# %pip install scikit-learn"
   ]
  },
  {
   "cell_type": "code",
   "execution_count": 17,
   "metadata": {
    "executionInfo": {
     "elapsed": 9,
     "status": "ok",
     "timestamp": 1631345226016,
     "user": {
      "displayName": "ANDRE OMAR CHAVEZ PANDURO",
      "photoUrl": "https://lh3.googleusercontent.com/a-/AOh14GhhoQ1kbFXrI1LHS5aCbnzbQoTSVMlrpsL1-iED=s64",
      "userId": "14331399592622880507"
     },
     "user_tz": 300
    },
    "id": "wA9cWtSRWsKS",
    "tags": []
   },
   "outputs": [],
   "source": [
    "# Paso N°01: Elegimos y entrenamos un algoritmo de ML\n",
    "from sklearn.linear_model import LogisticRegression\n",
    "lr = LogisticRegression()"
   ]
  },
  {
   "cell_type": "markdown",
   "metadata": {},
   "source": [
    "hiperparámetros del modelo estimado"
   ]
  },
  {
   "cell_type": "code",
   "execution_count": 19,
   "metadata": {
    "tags": []
   },
   "outputs": [
    {
     "data": {
      "text/plain": [
       "{'C': 1.0,\n",
       " 'class_weight': None,\n",
       " 'dual': False,\n",
       " 'fit_intercept': True,\n",
       " 'intercept_scaling': 1,\n",
       " 'l1_ratio': None,\n",
       " 'max_iter': 100,\n",
       " 'multi_class': 'deprecated',\n",
       " 'n_jobs': None,\n",
       " 'penalty': 'l2',\n",
       " 'random_state': None,\n",
       " 'solver': 'lbfgs',\n",
       " 'tol': 0.0001,\n",
       " 'verbose': 0,\n",
       " 'warm_start': False}"
      ]
     },
     "execution_count": 19,
     "metadata": {},
     "output_type": "execute_result"
    }
   ],
   "source": [
    "lr.get_params()"
   ]
  },
  {
   "cell_type": "markdown",
   "metadata": {},
   "source": [
    "ENTRENAMIENTO !!!"
   ]
  },
  {
   "cell_type": "code",
   "execution_count": 20,
   "metadata": {
    "executionInfo": {
     "elapsed": 283,
     "status": "ok",
     "timestamp": 1631346665289,
     "user": {
      "displayName": "ANDRE OMAR CHAVEZ PANDURO",
      "photoUrl": "https://lh3.googleusercontent.com/a-/AOh14GhhoQ1kbFXrI1LHS5aCbnzbQoTSVMlrpsL1-iED=s64",
      "userId": "14331399592622880507"
     },
     "user_tz": 300
    },
    "id": "mOAJ8SHOYKZE",
    "tags": []
   },
   "outputs": [
    {
     "data": {
      "text/html": [
       "<style>#sk-container-id-1 {\n",
       "  /* Definition of color scheme common for light and dark mode */\n",
       "  --sklearn-color-text: black;\n",
       "  --sklearn-color-line: gray;\n",
       "  /* Definition of color scheme for unfitted estimators */\n",
       "  --sklearn-color-unfitted-level-0: #fff5e6;\n",
       "  --sklearn-color-unfitted-level-1: #f6e4d2;\n",
       "  --sklearn-color-unfitted-level-2: #ffe0b3;\n",
       "  --sklearn-color-unfitted-level-3: chocolate;\n",
       "  /* Definition of color scheme for fitted estimators */\n",
       "  --sklearn-color-fitted-level-0: #f0f8ff;\n",
       "  --sklearn-color-fitted-level-1: #d4ebff;\n",
       "  --sklearn-color-fitted-level-2: #b3dbfd;\n",
       "  --sklearn-color-fitted-level-3: cornflowerblue;\n",
       "\n",
       "  /* Specific color for light theme */\n",
       "  --sklearn-color-text-on-default-background: var(--sg-text-color, var(--theme-code-foreground, var(--jp-content-font-color1, black)));\n",
       "  --sklearn-color-background: var(--sg-background-color, var(--theme-background, var(--jp-layout-color0, white)));\n",
       "  --sklearn-color-border-box: var(--sg-text-color, var(--theme-code-foreground, var(--jp-content-font-color1, black)));\n",
       "  --sklearn-color-icon: #696969;\n",
       "\n",
       "  @media (prefers-color-scheme: dark) {\n",
       "    /* Redefinition of color scheme for dark theme */\n",
       "    --sklearn-color-text-on-default-background: var(--sg-text-color, var(--theme-code-foreground, var(--jp-content-font-color1, white)));\n",
       "    --sklearn-color-background: var(--sg-background-color, var(--theme-background, var(--jp-layout-color0, #111)));\n",
       "    --sklearn-color-border-box: var(--sg-text-color, var(--theme-code-foreground, var(--jp-content-font-color1, white)));\n",
       "    --sklearn-color-icon: #878787;\n",
       "  }\n",
       "}\n",
       "\n",
       "#sk-container-id-1 {\n",
       "  color: var(--sklearn-color-text);\n",
       "}\n",
       "\n",
       "#sk-container-id-1 pre {\n",
       "  padding: 0;\n",
       "}\n",
       "\n",
       "#sk-container-id-1 input.sk-hidden--visually {\n",
       "  border: 0;\n",
       "  clip: rect(1px 1px 1px 1px);\n",
       "  clip: rect(1px, 1px, 1px, 1px);\n",
       "  height: 1px;\n",
       "  margin: -1px;\n",
       "  overflow: hidden;\n",
       "  padding: 0;\n",
       "  position: absolute;\n",
       "  width: 1px;\n",
       "}\n",
       "\n",
       "#sk-container-id-1 div.sk-dashed-wrapped {\n",
       "  border: 1px dashed var(--sklearn-color-line);\n",
       "  margin: 0 0.4em 0.5em 0.4em;\n",
       "  box-sizing: border-box;\n",
       "  padding-bottom: 0.4em;\n",
       "  background-color: var(--sklearn-color-background);\n",
       "}\n",
       "\n",
       "#sk-container-id-1 div.sk-container {\n",
       "  /* jupyter's `normalize.less` sets `[hidden] { display: none; }`\n",
       "     but bootstrap.min.css set `[hidden] { display: none !important; }`\n",
       "     so we also need the `!important` here to be able to override the\n",
       "     default hidden behavior on the sphinx rendered scikit-learn.org.\n",
       "     See: https://github.com/scikit-learn/scikit-learn/issues/21755 */\n",
       "  display: inline-block !important;\n",
       "  position: relative;\n",
       "}\n",
       "\n",
       "#sk-container-id-1 div.sk-text-repr-fallback {\n",
       "  display: none;\n",
       "}\n",
       "\n",
       "div.sk-parallel-item,\n",
       "div.sk-serial,\n",
       "div.sk-item {\n",
       "  /* draw centered vertical line to link estimators */\n",
       "  background-image: linear-gradient(var(--sklearn-color-text-on-default-background), var(--sklearn-color-text-on-default-background));\n",
       "  background-size: 2px 100%;\n",
       "  background-repeat: no-repeat;\n",
       "  background-position: center center;\n",
       "}\n",
       "\n",
       "/* Parallel-specific style estimator block */\n",
       "\n",
       "#sk-container-id-1 div.sk-parallel-item::after {\n",
       "  content: \"\";\n",
       "  width: 100%;\n",
       "  border-bottom: 2px solid var(--sklearn-color-text-on-default-background);\n",
       "  flex-grow: 1;\n",
       "}\n",
       "\n",
       "#sk-container-id-1 div.sk-parallel {\n",
       "  display: flex;\n",
       "  align-items: stretch;\n",
       "  justify-content: center;\n",
       "  background-color: var(--sklearn-color-background);\n",
       "  position: relative;\n",
       "}\n",
       "\n",
       "#sk-container-id-1 div.sk-parallel-item {\n",
       "  display: flex;\n",
       "  flex-direction: column;\n",
       "}\n",
       "\n",
       "#sk-container-id-1 div.sk-parallel-item:first-child::after {\n",
       "  align-self: flex-end;\n",
       "  width: 50%;\n",
       "}\n",
       "\n",
       "#sk-container-id-1 div.sk-parallel-item:last-child::after {\n",
       "  align-self: flex-start;\n",
       "  width: 50%;\n",
       "}\n",
       "\n",
       "#sk-container-id-1 div.sk-parallel-item:only-child::after {\n",
       "  width: 0;\n",
       "}\n",
       "\n",
       "/* Serial-specific style estimator block */\n",
       "\n",
       "#sk-container-id-1 div.sk-serial {\n",
       "  display: flex;\n",
       "  flex-direction: column;\n",
       "  align-items: center;\n",
       "  background-color: var(--sklearn-color-background);\n",
       "  padding-right: 1em;\n",
       "  padding-left: 1em;\n",
       "}\n",
       "\n",
       "\n",
       "/* Toggleable style: style used for estimator/Pipeline/ColumnTransformer box that is\n",
       "clickable and can be expanded/collapsed.\n",
       "- Pipeline and ColumnTransformer use this feature and define the default style\n",
       "- Estimators will overwrite some part of the style using the `sk-estimator` class\n",
       "*/\n",
       "\n",
       "/* Pipeline and ColumnTransformer style (default) */\n",
       "\n",
       "#sk-container-id-1 div.sk-toggleable {\n",
       "  /* Default theme specific background. It is overwritten whether we have a\n",
       "  specific estimator or a Pipeline/ColumnTransformer */\n",
       "  background-color: var(--sklearn-color-background);\n",
       "}\n",
       "\n",
       "/* Toggleable label */\n",
       "#sk-container-id-1 label.sk-toggleable__label {\n",
       "  cursor: pointer;\n",
       "  display: block;\n",
       "  width: 100%;\n",
       "  margin-bottom: 0;\n",
       "  padding: 0.5em;\n",
       "  box-sizing: border-box;\n",
       "  text-align: center;\n",
       "}\n",
       "\n",
       "#sk-container-id-1 label.sk-toggleable__label-arrow:before {\n",
       "  /* Arrow on the left of the label */\n",
       "  content: \"▸\";\n",
       "  float: left;\n",
       "  margin-right: 0.25em;\n",
       "  color: var(--sklearn-color-icon);\n",
       "}\n",
       "\n",
       "#sk-container-id-1 label.sk-toggleable__label-arrow:hover:before {\n",
       "  color: var(--sklearn-color-text);\n",
       "}\n",
       "\n",
       "/* Toggleable content - dropdown */\n",
       "\n",
       "#sk-container-id-1 div.sk-toggleable__content {\n",
       "  max-height: 0;\n",
       "  max-width: 0;\n",
       "  overflow: hidden;\n",
       "  text-align: left;\n",
       "  /* unfitted */\n",
       "  background-color: var(--sklearn-color-unfitted-level-0);\n",
       "}\n",
       "\n",
       "#sk-container-id-1 div.sk-toggleable__content.fitted {\n",
       "  /* fitted */\n",
       "  background-color: var(--sklearn-color-fitted-level-0);\n",
       "}\n",
       "\n",
       "#sk-container-id-1 div.sk-toggleable__content pre {\n",
       "  margin: 0.2em;\n",
       "  border-radius: 0.25em;\n",
       "  color: var(--sklearn-color-text);\n",
       "  /* unfitted */\n",
       "  background-color: var(--sklearn-color-unfitted-level-0);\n",
       "}\n",
       "\n",
       "#sk-container-id-1 div.sk-toggleable__content.fitted pre {\n",
       "  /* unfitted */\n",
       "  background-color: var(--sklearn-color-fitted-level-0);\n",
       "}\n",
       "\n",
       "#sk-container-id-1 input.sk-toggleable__control:checked~div.sk-toggleable__content {\n",
       "  /* Expand drop-down */\n",
       "  max-height: 200px;\n",
       "  max-width: 100%;\n",
       "  overflow: auto;\n",
       "}\n",
       "\n",
       "#sk-container-id-1 input.sk-toggleable__control:checked~label.sk-toggleable__label-arrow:before {\n",
       "  content: \"▾\";\n",
       "}\n",
       "\n",
       "/* Pipeline/ColumnTransformer-specific style */\n",
       "\n",
       "#sk-container-id-1 div.sk-label input.sk-toggleable__control:checked~label.sk-toggleable__label {\n",
       "  color: var(--sklearn-color-text);\n",
       "  background-color: var(--sklearn-color-unfitted-level-2);\n",
       "}\n",
       "\n",
       "#sk-container-id-1 div.sk-label.fitted input.sk-toggleable__control:checked~label.sk-toggleable__label {\n",
       "  background-color: var(--sklearn-color-fitted-level-2);\n",
       "}\n",
       "\n",
       "/* Estimator-specific style */\n",
       "\n",
       "/* Colorize estimator box */\n",
       "#sk-container-id-1 div.sk-estimator input.sk-toggleable__control:checked~label.sk-toggleable__label {\n",
       "  /* unfitted */\n",
       "  background-color: var(--sklearn-color-unfitted-level-2);\n",
       "}\n",
       "\n",
       "#sk-container-id-1 div.sk-estimator.fitted input.sk-toggleable__control:checked~label.sk-toggleable__label {\n",
       "  /* fitted */\n",
       "  background-color: var(--sklearn-color-fitted-level-2);\n",
       "}\n",
       "\n",
       "#sk-container-id-1 div.sk-label label.sk-toggleable__label,\n",
       "#sk-container-id-1 div.sk-label label {\n",
       "  /* The background is the default theme color */\n",
       "  color: var(--sklearn-color-text-on-default-background);\n",
       "}\n",
       "\n",
       "/* On hover, darken the color of the background */\n",
       "#sk-container-id-1 div.sk-label:hover label.sk-toggleable__label {\n",
       "  color: var(--sklearn-color-text);\n",
       "  background-color: var(--sklearn-color-unfitted-level-2);\n",
       "}\n",
       "\n",
       "/* Label box, darken color on hover, fitted */\n",
       "#sk-container-id-1 div.sk-label.fitted:hover label.sk-toggleable__label.fitted {\n",
       "  color: var(--sklearn-color-text);\n",
       "  background-color: var(--sklearn-color-fitted-level-2);\n",
       "}\n",
       "\n",
       "/* Estimator label */\n",
       "\n",
       "#sk-container-id-1 div.sk-label label {\n",
       "  font-family: monospace;\n",
       "  font-weight: bold;\n",
       "  display: inline-block;\n",
       "  line-height: 1.2em;\n",
       "}\n",
       "\n",
       "#sk-container-id-1 div.sk-label-container {\n",
       "  text-align: center;\n",
       "}\n",
       "\n",
       "/* Estimator-specific */\n",
       "#sk-container-id-1 div.sk-estimator {\n",
       "  font-family: monospace;\n",
       "  border: 1px dotted var(--sklearn-color-border-box);\n",
       "  border-radius: 0.25em;\n",
       "  box-sizing: border-box;\n",
       "  margin-bottom: 0.5em;\n",
       "  /* unfitted */\n",
       "  background-color: var(--sklearn-color-unfitted-level-0);\n",
       "}\n",
       "\n",
       "#sk-container-id-1 div.sk-estimator.fitted {\n",
       "  /* fitted */\n",
       "  background-color: var(--sklearn-color-fitted-level-0);\n",
       "}\n",
       "\n",
       "/* on hover */\n",
       "#sk-container-id-1 div.sk-estimator:hover {\n",
       "  /* unfitted */\n",
       "  background-color: var(--sklearn-color-unfitted-level-2);\n",
       "}\n",
       "\n",
       "#sk-container-id-1 div.sk-estimator.fitted:hover {\n",
       "  /* fitted */\n",
       "  background-color: var(--sklearn-color-fitted-level-2);\n",
       "}\n",
       "\n",
       "/* Specification for estimator info (e.g. \"i\" and \"?\") */\n",
       "\n",
       "/* Common style for \"i\" and \"?\" */\n",
       "\n",
       ".sk-estimator-doc-link,\n",
       "a:link.sk-estimator-doc-link,\n",
       "a:visited.sk-estimator-doc-link {\n",
       "  float: right;\n",
       "  font-size: smaller;\n",
       "  line-height: 1em;\n",
       "  font-family: monospace;\n",
       "  background-color: var(--sklearn-color-background);\n",
       "  border-radius: 1em;\n",
       "  height: 1em;\n",
       "  width: 1em;\n",
       "  text-decoration: none !important;\n",
       "  margin-left: 1ex;\n",
       "  /* unfitted */\n",
       "  border: var(--sklearn-color-unfitted-level-1) 1pt solid;\n",
       "  color: var(--sklearn-color-unfitted-level-1);\n",
       "}\n",
       "\n",
       ".sk-estimator-doc-link.fitted,\n",
       "a:link.sk-estimator-doc-link.fitted,\n",
       "a:visited.sk-estimator-doc-link.fitted {\n",
       "  /* fitted */\n",
       "  border: var(--sklearn-color-fitted-level-1) 1pt solid;\n",
       "  color: var(--sklearn-color-fitted-level-1);\n",
       "}\n",
       "\n",
       "/* On hover */\n",
       "div.sk-estimator:hover .sk-estimator-doc-link:hover,\n",
       ".sk-estimator-doc-link:hover,\n",
       "div.sk-label-container:hover .sk-estimator-doc-link:hover,\n",
       ".sk-estimator-doc-link:hover {\n",
       "  /* unfitted */\n",
       "  background-color: var(--sklearn-color-unfitted-level-3);\n",
       "  color: var(--sklearn-color-background);\n",
       "  text-decoration: none;\n",
       "}\n",
       "\n",
       "div.sk-estimator.fitted:hover .sk-estimator-doc-link.fitted:hover,\n",
       ".sk-estimator-doc-link.fitted:hover,\n",
       "div.sk-label-container:hover .sk-estimator-doc-link.fitted:hover,\n",
       ".sk-estimator-doc-link.fitted:hover {\n",
       "  /* fitted */\n",
       "  background-color: var(--sklearn-color-fitted-level-3);\n",
       "  color: var(--sklearn-color-background);\n",
       "  text-decoration: none;\n",
       "}\n",
       "\n",
       "/* Span, style for the box shown on hovering the info icon */\n",
       ".sk-estimator-doc-link span {\n",
       "  display: none;\n",
       "  z-index: 9999;\n",
       "  position: relative;\n",
       "  font-weight: normal;\n",
       "  right: .2ex;\n",
       "  padding: .5ex;\n",
       "  margin: .5ex;\n",
       "  width: min-content;\n",
       "  min-width: 20ex;\n",
       "  max-width: 50ex;\n",
       "  color: var(--sklearn-color-text);\n",
       "  box-shadow: 2pt 2pt 4pt #999;\n",
       "  /* unfitted */\n",
       "  background: var(--sklearn-color-unfitted-level-0);\n",
       "  border: .5pt solid var(--sklearn-color-unfitted-level-3);\n",
       "}\n",
       "\n",
       ".sk-estimator-doc-link.fitted span {\n",
       "  /* fitted */\n",
       "  background: var(--sklearn-color-fitted-level-0);\n",
       "  border: var(--sklearn-color-fitted-level-3);\n",
       "}\n",
       "\n",
       ".sk-estimator-doc-link:hover span {\n",
       "  display: block;\n",
       "}\n",
       "\n",
       "/* \"?\"-specific style due to the `<a>` HTML tag */\n",
       "\n",
       "#sk-container-id-1 a.estimator_doc_link {\n",
       "  float: right;\n",
       "  font-size: 1rem;\n",
       "  line-height: 1em;\n",
       "  font-family: monospace;\n",
       "  background-color: var(--sklearn-color-background);\n",
       "  border-radius: 1rem;\n",
       "  height: 1rem;\n",
       "  width: 1rem;\n",
       "  text-decoration: none;\n",
       "  /* unfitted */\n",
       "  color: var(--sklearn-color-unfitted-level-1);\n",
       "  border: var(--sklearn-color-unfitted-level-1) 1pt solid;\n",
       "}\n",
       "\n",
       "#sk-container-id-1 a.estimator_doc_link.fitted {\n",
       "  /* fitted */\n",
       "  border: var(--sklearn-color-fitted-level-1) 1pt solid;\n",
       "  color: var(--sklearn-color-fitted-level-1);\n",
       "}\n",
       "\n",
       "/* On hover */\n",
       "#sk-container-id-1 a.estimator_doc_link:hover {\n",
       "  /* unfitted */\n",
       "  background-color: var(--sklearn-color-unfitted-level-3);\n",
       "  color: var(--sklearn-color-background);\n",
       "  text-decoration: none;\n",
       "}\n",
       "\n",
       "#sk-container-id-1 a.estimator_doc_link.fitted:hover {\n",
       "  /* fitted */\n",
       "  background-color: var(--sklearn-color-fitted-level-3);\n",
       "}\n",
       "</style><div id=\"sk-container-id-1\" class=\"sk-top-container\"><div class=\"sk-text-repr-fallback\"><pre>LogisticRegression()</pre><b>In a Jupyter environment, please rerun this cell to show the HTML representation or trust the notebook. <br />On GitHub, the HTML representation is unable to render, please try loading this page with nbviewer.org.</b></div><div class=\"sk-container\" hidden><div class=\"sk-item\"><div class=\"sk-estimator fitted sk-toggleable\"><input class=\"sk-toggleable__control sk-hidden--visually\" id=\"sk-estimator-id-1\" type=\"checkbox\" checked><label for=\"sk-estimator-id-1\" class=\"sk-toggleable__label fitted sk-toggleable__label-arrow fitted\">&nbsp;&nbsp;LogisticRegression<a class=\"sk-estimator-doc-link fitted\" rel=\"noreferrer\" target=\"_blank\" href=\"https://scikit-learn.org/1.5/modules/generated/sklearn.linear_model.LogisticRegression.html\">?<span>Documentation for LogisticRegression</span></a><span class=\"sk-estimator-doc-link fitted\">i<span>Fitted</span></span></label><div class=\"sk-toggleable__content fitted\"><pre>LogisticRegression()</pre></div> </div></div></div></div>"
      ],
      "text/plain": [
       "LogisticRegression()"
      ]
     },
     "execution_count": 20,
     "metadata": {},
     "output_type": "execute_result"
    }
   ],
   "source": [
    "lr.fit(X_train,y_train)"
   ]
  },
  {
   "cell_type": "code",
   "execution_count": 21,
   "metadata": {
    "tags": []
   },
   "outputs": [
    {
     "data": {
      "text/plain": [
       "array(['Dependents', 'ApplicantIncome', 'CoapplicantIncome', 'LoanAmount',\n",
       "       'Loan_Amount_Term', 'Credit_History', 'Gender_Male', 'Married_Yes',\n",
       "       'Education_Not Graduate', 'Self_Employed_Yes',\n",
       "       'Property_Area_Semiurban', 'Property_Area_Urban', 'TotalIncome',\n",
       "       'TotalIncomeByPerson', 'Cuota', '%Cuota', 'log_ApplicantIncome',\n",
       "       'log_TotalIncome'], dtype=object)"
      ]
     },
     "execution_count": 21,
     "metadata": {},
     "output_type": "execute_result"
    }
   ],
   "source": [
    "# variables\n",
    "lr.feature_names_in_"
   ]
  },
  {
   "cell_type": "code",
   "execution_count": 22,
   "metadata": {
    "tags": []
   },
   "outputs": [
    {
     "data": {
      "text/plain": [
       "array([[-0.04284835,  0.03080728,  0.41963307,  0.22137339,  0.0771115 ,\n",
       "        -3.35715756, -0.09464721, -0.54820534,  0.38957282, -0.02536092,\n",
       "        -0.87558591, -0.02239273,  0.44013065,  0.68596954,  0.66885   ,\n",
       "         0.85168078,  0.05926561, -0.44401601]])"
      ]
     },
     "execution_count": 22,
     "metadata": {},
     "output_type": "execute_result"
    }
   ],
   "source": [
    "# coeficientes del modelo\n",
    "lr.coef_"
   ]
  },
  {
   "cell_type": "code",
   "execution_count": 23,
   "metadata": {
    "tags": []
   },
   "outputs": [
    {
     "data": {
      "text/plain": [
       "array([0, 1], dtype=int64)"
      ]
     },
     "execution_count": 23,
     "metadata": {},
     "output_type": "execute_result"
    }
   ],
   "source": [
    "# clases que tenemos\n",
    "lr.classes_"
   ]
  },
  {
   "cell_type": "markdown",
   "metadata": {},
   "source": [
    "Estimaciones de probabilidad. Las estimaciones devueltas para todas las clases están ordenadas por la etiqueta de clases.\n",
    "Es decir, la probabilidad que pertenesca a la clase 0 son los valores de la primera columna (indice 0)\n",
    "Mientras que la probabilidad de pertenesca a la clase 1 son los valores de la segunda columna (indice 1)"
   ]
  },
  {
   "cell_type": "code",
   "execution_count": 24,
   "metadata": {
    "tags": []
   },
   "outputs": [
    {
     "data": {
      "text/plain": [
       "array([[0.83606227, 0.16393773],\n",
       "       [0.05249555, 0.94750445],\n",
       "       [0.67634545, 0.32365455],\n",
       "       [0.67033079, 0.32966921],\n",
       "       [0.81298233, 0.18701767],\n",
       "       [0.6959975 , 0.3040025 ],\n",
       "       [0.89757437, 0.10242563],\n",
       "       [0.67936815, 0.32063185],\n",
       "       [0.89758495, 0.10241505],\n",
       "       [0.86944441, 0.13055559],\n",
       "       [0.90641883, 0.09358117],\n",
       "       [0.79144462, 0.20855538],\n",
       "       [0.80287644, 0.19712356],\n",
       "       [0.82055052, 0.17944948],\n",
       "       [0.78431474, 0.21568526],\n",
       "       [0.72753877, 0.27246123],\n",
       "       [0.77568739, 0.22431261],\n",
       "       [0.12481375, 0.87518625],\n",
       "       [0.79742328, 0.20257672],\n",
       "       [0.83536232, 0.16463768],\n",
       "       [0.86518956, 0.13481044],\n",
       "       [0.69019765, 0.30980235],\n",
       "       [0.76020731, 0.23979269],\n",
       "       [0.69287872, 0.30712128],\n",
       "       [0.79981426, 0.20018574],\n",
       "       [0.80846707, 0.19153293],\n",
       "       [0.66737519, 0.33262481],\n",
       "       [0.73384721, 0.26615279],\n",
       "       [0.78062982, 0.21937018],\n",
       "       [0.90751669, 0.09248331],\n",
       "       [0.25372802, 0.74627198],\n",
       "       [0.0439815 , 0.9560185 ],\n",
       "       [0.77072207, 0.22927793],\n",
       "       [0.72906154, 0.27093846],\n",
       "       [0.63908758, 0.36091242],\n",
       "       [0.04849935, 0.95150065],\n",
       "       [0.10994705, 0.89005295],\n",
       "       [0.80771992, 0.19228008],\n",
       "       [0.58719735, 0.41280265],\n",
       "       [0.22475809, 0.77524191],\n",
       "       [0.87487724, 0.12512276],\n",
       "       [0.67046384, 0.32953616],\n",
       "       [0.90074989, 0.09925011],\n",
       "       [0.7425702 , 0.2574298 ],\n",
       "       [0.64737977, 0.35262023],\n",
       "       [0.68566733, 0.31433267],\n",
       "       [0.56893738, 0.43106262],\n",
       "       [0.89053597, 0.10946403],\n",
       "       [0.7824164 , 0.2175836 ],\n",
       "       [0.76797957, 0.23202043],\n",
       "       [0.07842594, 0.92157406],\n",
       "       [0.75624976, 0.24375024],\n",
       "       [0.67656005, 0.32343995],\n",
       "       [0.16601479, 0.83398521],\n",
       "       [0.66378706, 0.33621294],\n",
       "       [0.90252558, 0.09747442],\n",
       "       [0.70925687, 0.29074313],\n",
       "       [0.87225888, 0.12774112],\n",
       "       [0.11521865, 0.88478135],\n",
       "       [0.89168279, 0.10831721],\n",
       "       [0.65095245, 0.34904755],\n",
       "       [0.71340539, 0.28659461],\n",
       "       [0.06817256, 0.93182744],\n",
       "       [0.79969692, 0.20030308],\n",
       "       [0.47412809, 0.52587191],\n",
       "       [0.7934037 , 0.2065963 ],\n",
       "       [0.78868923, 0.21131077],\n",
       "       [0.07434532, 0.92565468],\n",
       "       [0.77607861, 0.22392139],\n",
       "       [0.59135351, 0.40864649],\n",
       "       [0.79814307, 0.20185693],\n",
       "       [0.79546571, 0.20453429],\n",
       "       [0.64031826, 0.35968174],\n",
       "       [0.82949844, 0.17050156],\n",
       "       [0.57186399, 0.42813601],\n",
       "       [0.89655749, 0.10344251],\n",
       "       [0.58145698, 0.41854302],\n",
       "       [0.7800085 , 0.2199915 ],\n",
       "       [0.66704872, 0.33295128],\n",
       "       [0.72676443, 0.27323557],\n",
       "       [0.14623398, 0.85376602],\n",
       "       [0.86079081, 0.13920919],\n",
       "       [0.68670402, 0.31329598],\n",
       "       [0.78858875, 0.21141125],\n",
       "       [0.9093352 , 0.0906648 ],\n",
       "       [0.81130181, 0.18869819],\n",
       "       [0.89550372, 0.10449628],\n",
       "       [0.79141744, 0.20858256],\n",
       "       [0.87450247, 0.12549753],\n",
       "       [0.9062452 , 0.0937548 ],\n",
       "       [0.88477048, 0.11522952],\n",
       "       [0.83735749, 0.16264251],\n",
       "       [0.78169303, 0.21830697],\n",
       "       [0.81231124, 0.18768876],\n",
       "       [0.04974823, 0.95025177],\n",
       "       [0.79870466, 0.20129534],\n",
       "       [0.80121446, 0.19878554],\n",
       "       [0.77470003, 0.22529997],\n",
       "       [0.67612985, 0.32387015],\n",
       "       [0.86287731, 0.13712269],\n",
       "       [0.89416668, 0.10583332],\n",
       "       [0.79632387, 0.20367613],\n",
       "       [0.7260257 , 0.2739743 ],\n",
       "       [0.66977804, 0.33022196],\n",
       "       [0.76639152, 0.23360848],\n",
       "       [0.07567008, 0.92432992],\n",
       "       [0.24477267, 0.75522733],\n",
       "       [0.10648584, 0.89351416],\n",
       "       [0.87037017, 0.12962983],\n",
       "       [0.90075974, 0.09924026],\n",
       "       [0.60585129, 0.39414871],\n",
       "       [0.88123166, 0.11876834],\n",
       "       [0.59143171, 0.40856829],\n",
       "       [0.77878462, 0.22121538],\n",
       "       [0.89836736, 0.10163264],\n",
       "       [0.1401419 , 0.8598581 ],\n",
       "       [0.89562536, 0.10437464],\n",
       "       [0.64426758, 0.35573242],\n",
       "       [0.60646906, 0.39353094],\n",
       "       [0.56398778, 0.43601222],\n",
       "       [0.24025715, 0.75974285],\n",
       "       [0.88533211, 0.11466789],\n",
       "       [0.45161703, 0.54838297]])"
      ]
     },
     "execution_count": 24,
     "metadata": {},
     "output_type": "execute_result"
    }
   ],
   "source": [
    "lr.predict_proba(X_test)"
   ]
  },
  {
   "cell_type": "markdown",
   "metadata": {},
   "source": [
    "Predicción de la probabilidad de Loan_Status = 1"
   ]
  },
  {
   "cell_type": "code",
   "execution_count": 25,
   "metadata": {
    "executionInfo": {
     "elapsed": 284,
     "status": "ok",
     "timestamp": 1631346669651,
     "user": {
      "displayName": "ANDRE OMAR CHAVEZ PANDURO",
      "photoUrl": "https://lh3.googleusercontent.com/a-/AOh14GhhoQ1kbFXrI1LHS5aCbnzbQoTSVMlrpsL1-iED=s64",
      "userId": "14331399592622880507"
     },
     "user_tz": 300
    },
    "id": "nahjL0c9YKcp",
    "tags": []
   },
   "outputs": [
    {
     "data": {
      "text/plain": [
       "array([0.16393773, 0.94750445, 0.32365455, 0.32966921, 0.18701767,\n",
       "       0.3040025 , 0.10242563, 0.32063185, 0.10241505, 0.13055559,\n",
       "       0.09358117, 0.20855538, 0.19712356, 0.17944948, 0.21568526,\n",
       "       0.27246123, 0.22431261, 0.87518625, 0.20257672, 0.16463768,\n",
       "       0.13481044, 0.30980235, 0.23979269, 0.30712128, 0.20018574,\n",
       "       0.19153293, 0.33262481, 0.26615279, 0.21937018, 0.09248331,\n",
       "       0.74627198, 0.9560185 , 0.22927793, 0.27093846, 0.36091242,\n",
       "       0.95150065, 0.89005295, 0.19228008, 0.41280265, 0.77524191,\n",
       "       0.12512276, 0.32953616, 0.09925011, 0.2574298 , 0.35262023,\n",
       "       0.31433267, 0.43106262, 0.10946403, 0.2175836 , 0.23202043,\n",
       "       0.92157406, 0.24375024, 0.32343995, 0.83398521, 0.33621294,\n",
       "       0.09747442, 0.29074313, 0.12774112, 0.88478135, 0.10831721,\n",
       "       0.34904755, 0.28659461, 0.93182744, 0.20030308, 0.52587191,\n",
       "       0.2065963 , 0.21131077, 0.92565468, 0.22392139, 0.40864649,\n",
       "       0.20185693, 0.20453429, 0.35968174, 0.17050156, 0.42813601,\n",
       "       0.10344251, 0.41854302, 0.2199915 , 0.33295128, 0.27323557,\n",
       "       0.85376602, 0.13920919, 0.31329598, 0.21141125, 0.0906648 ,\n",
       "       0.18869819, 0.10449628, 0.20858256, 0.12549753, 0.0937548 ,\n",
       "       0.11522952, 0.16264251, 0.21830697, 0.18768876, 0.95025177,\n",
       "       0.20129534, 0.19878554, 0.22529997, 0.32387015, 0.13712269,\n",
       "       0.10583332, 0.20367613, 0.2739743 , 0.33022196, 0.23360848,\n",
       "       0.92432992, 0.75522733, 0.89351416, 0.12962983, 0.09924026,\n",
       "       0.39414871, 0.11876834, 0.40856829, 0.22121538, 0.10163264,\n",
       "       0.8598581 , 0.10437464, 0.35573242, 0.39353094, 0.43601222,\n",
       "       0.75974285, 0.11466789, 0.54838297])"
      ]
     },
     "execution_count": 25,
     "metadata": {},
     "output_type": "execute_result"
    }
   ],
   "source": [
    "lr.predict_proba(X_test)[:,1]"
   ]
  },
  {
   "cell_type": "markdown",
   "metadata": {},
   "source": [
    "predicción de la categoría"
   ]
  },
  {
   "cell_type": "code",
   "execution_count": 26,
   "metadata": {
    "executionInfo": {
     "elapsed": 255,
     "status": "ok",
     "timestamp": 1631346674475,
     "user": {
      "displayName": "ANDRE OMAR CHAVEZ PANDURO",
      "photoUrl": "https://lh3.googleusercontent.com/a-/AOh14GhhoQ1kbFXrI1LHS5aCbnzbQoTSVMlrpsL1-iED=s64",
      "userId": "14331399592622880507"
     },
     "user_tz": 300
    },
    "id": "LKtu523U5cH_",
    "tags": []
   },
   "outputs": [
    {
     "data": {
      "text/plain": [
       "array([0, 1, 0, 0, 0, 0, 0, 0, 0, 0, 0, 0, 0, 0, 0, 0, 0, 1, 0, 0, 0, 0,\n",
       "       0, 0, 0, 0, 0, 0, 0, 0, 1, 1, 0, 0, 0, 1, 1, 0, 0, 1, 0, 0, 0, 0,\n",
       "       0, 0, 0, 0, 0, 0, 1, 0, 0, 1, 0, 0, 0, 0, 1, 0, 0, 0, 1, 0, 1, 0,\n",
       "       0, 1, 0, 0, 0, 0, 0, 0, 0, 0, 0, 0, 0, 0, 1, 0, 0, 0, 0, 0, 0, 0,\n",
       "       0, 0, 0, 0, 0, 0, 1, 0, 0, 0, 0, 0, 0, 0, 0, 0, 0, 1, 1, 1, 0, 0,\n",
       "       0, 0, 0, 0, 0, 1, 0, 0, 0, 0, 1, 0, 1], dtype=int64)"
      ]
     },
     "execution_count": 26,
     "metadata": {},
     "output_type": "execute_result"
    }
   ],
   "source": [
    "lr.predict(X_test)"
   ]
  },
  {
   "cell_type": "code",
   "execution_count": 27,
   "metadata": {
    "executionInfo": {
     "elapsed": 357,
     "status": "ok",
     "timestamp": 1631341849100,
     "user": {
      "displayName": "ANDRE OMAR CHAVEZ PANDURO",
      "photoUrl": "https://lh3.googleusercontent.com/a-/AOh14GhhoQ1kbFXrI1LHS5aCbnzbQoTSVMlrpsL1-iED=s64",
      "userId": "14331399592622880507"
     },
     "user_tz": 300
    },
    "id": "3mPP_a_-BOc8",
    "tags": []
   },
   "outputs": [],
   "source": [
    "# Paso N°02: Con el algoritmo entrenado predecimos sobre la data de train y test!\n",
    "\n",
    "y_pred_train=lr.predict(X_train) # Prediccion sobre el train\n",
    "y_pred_test= lr.predict(X_test) # Prediccion sobre el test\n",
    "\n",
    "y_proba_test= lr.predict_proba(X_test)[:,1]   #Prediccion de probabilidades del target"
   ]
  },
  {
   "cell_type": "code",
   "execution_count": 28,
   "metadata": {
    "tags": []
   },
   "outputs": [],
   "source": [
    "# Paso N°03: Revisamos las metricas de validación!\n",
    "from sklearn import metrics as metrics"
   ]
  },
  {
   "cell_type": "code",
   "execution_count": 29,
   "metadata": {
    "tags": []
   },
   "outputs": [],
   "source": [
    "# https://scikit-learn.org/stable/modules/generated/sklearn.metrics.confusion_matrix.html\n",
    "VN, FP, FN, VP = metrics.confusion_matrix(y_train,y_pred_train).ravel()"
   ]
  },
  {
   "cell_type": "code",
   "execution_count": 30,
   "metadata": {
    "tags": []
   },
   "outputs": [
    {
     "data": {
      "text/plain": [
       "332"
      ]
     },
     "execution_count": 30,
     "metadata": {},
     "output_type": "execute_result"
    }
   ],
   "source": [
    "VN"
   ]
  },
  {
   "cell_type": "code",
   "execution_count": 31,
   "metadata": {
    "tags": []
   },
   "outputs": [
    {
     "data": {
      "text/plain": [
       "5"
      ]
     },
     "execution_count": 31,
     "metadata": {},
     "output_type": "execute_result"
    }
   ],
   "source": [
    "FP"
   ]
  },
  {
   "cell_type": "code",
   "execution_count": 32,
   "metadata": {
    "tags": []
   },
   "outputs": [
    {
     "data": {
      "text/plain": [
       "87"
      ]
     },
     "execution_count": 32,
     "metadata": {},
     "output_type": "execute_result"
    }
   ],
   "source": [
    "FN"
   ]
  },
  {
   "cell_type": "code",
   "execution_count": 33,
   "metadata": {
    "tags": []
   },
   "outputs": [
    {
     "data": {
      "text/plain": [
       "67"
      ]
     },
     "execution_count": 33,
     "metadata": {},
     "output_type": "execute_result"
    }
   ],
   "source": [
    "VP"
   ]
  },
  {
   "cell_type": "code",
   "execution_count": 34,
   "metadata": {
    "executionInfo": {
     "elapsed": 263,
     "status": "ok",
     "timestamp": 1631346687509,
     "user": {
      "displayName": "ANDRE OMAR CHAVEZ PANDURO",
      "photoUrl": "https://lh3.googleusercontent.com/a-/AOh14GhhoQ1kbFXrI1LHS5aCbnzbQoTSVMlrpsL1-iED=s64",
      "userId": "14331399592622880507"
     },
     "user_tz": 300
    },
    "id": "2kJoWEzyBOiZ",
    "tags": []
   },
   "outputs": [],
   "source": [
    "\n",
    "def metricas_confusion(y_train,y_pred_train,y_test,y_pred_test):\n",
    "    # Matriz de confusion\n",
    "    print(\"Matriz confusion: Train\")\n",
    "    cm_train = metrics.confusion_matrix(y_train,y_pred_train)\n",
    "    print(cm_train)\n",
    "\n",
    "    print(\"Matriz confusion: Test\")\n",
    "    cm_test = metrics.confusion_matrix(y_test,y_pred_test)\n",
    "    print(cm_test)\n",
    "\n",
    "    # Accuracy\n",
    "    print(\"Accuracy: Train\")\n",
    "    accuracy_train=metrics.accuracy_score(y_train,y_pred_train)\n",
    "    print(accuracy_train)\n",
    "\n",
    "    print(\"Accuracy: Test\")\n",
    "    accuracy_test=metrics.accuracy_score(y_test,y_pred_test)\n",
    "    print(accuracy_test)\n",
    "\n",
    "    # Precision o Aporte del Modelo\n",
    "    print(\"Precision: Train\")\n",
    "    precision_train=metrics.precision_score(y_train,y_pred_train)\n",
    "    print(precision_train)\n",
    "\n",
    "    print(\"Precision: Test\")\n",
    "    precision_test=metrics.precision_score(y_test,y_pred_test)\n",
    "    print(precision_test)\n",
    "\n",
    "    # Recall o Sensibilidad \n",
    "    print(\"Recall: Train\")\n",
    "    recall_train=metrics.recall_score(y_train,y_pred_train)\n",
    "    print(recall_train)\n",
    "\n",
    "    print(\"Recall: Test\")\n",
    "    recall_test=metrics.recall_score(y_test,y_pred_test)\n",
    "    print(recall_test)"
   ]
  },
  {
   "cell_type": "code",
   "execution_count": 35,
   "metadata": {
    "tags": []
   },
   "outputs": [
    {
     "name": "stdout",
     "output_type": "stream",
     "text": [
      "Matriz confusion: Train\n",
      "[[332   5]\n",
      " [ 87  67]]\n",
      "Matriz confusion: Test\n",
      "[[81  4]\n",
      " [21 17]]\n",
      "Accuracy: Train\n",
      "0.8126272912423625\n",
      "Accuracy: Test\n",
      "0.7967479674796748\n",
      "Precision: Train\n",
      "0.9305555555555556\n",
      "Precision: Test\n",
      "0.8095238095238095\n",
      "Recall: Train\n",
      "0.43506493506493504\n",
      "Recall: Test\n",
      "0.4473684210526316\n"
     ]
    }
   ],
   "source": [
    "metricas_confusion(y_train,y_pred_train,y_test,y_pred_test)"
   ]
  },
  {
   "cell_type": "code",
   "execution_count": 36,
   "metadata": {
    "tags": []
   },
   "outputs": [
    {
     "data": {
      "image/png": "[encoded data removed]",
      "text/plain": [
       "<Figure size 640x480 with 2 Axes>"
      ]
     },
     "metadata": {},
     "output_type": "display_data"
    }
   ],
   "source": [
    "# Mostrando la matriz de confusión para el conjunto de test\n",
    "cm = metrics.confusion_matrix(y_test,y_pred_test, labels=lr.classes_)\n",
    "disp = metrics.ConfusionMatrixDisplay(confusion_matrix=cm,\n",
    "                              display_labels=lr.classes_)\n",
    "disp.plot()\n",
    "plt.show()"
   ]
  },
  {
   "cell_type": "code",
   "execution_count": 37,
   "metadata": {
    "tags": []
   },
   "outputs": [
    {
     "name": "stdout",
     "output_type": "stream",
     "text": [
      "              precision    recall  f1-score   support\n",
      "\n",
      "           0       0.79      0.95      0.87        85\n",
      "           1       0.81      0.45      0.58        38\n",
      "\n",
      "    accuracy                           0.80       123\n",
      "   macro avg       0.80      0.70      0.72       123\n",
      "weighted avg       0.80      0.80      0.78       123\n",
      "\n"
     ]
    }
   ],
   "source": [
    "from sklearn.metrics import classification_report\n",
    "\n",
    "print(metrics.classification_report(y_test, y_pred_test))"
   ]
  },
  {
   "cell_type": "code",
   "execution_count": 38,
   "metadata": {
    "tags": []
   },
   "outputs": [],
   "source": [
    "from sklearn.metrics import roc_auc_score, roc_curve\n",
    "\n",
    "def plot_roc_curve(y, y_proba, label = ''):\n",
    "    '''\n",
    "    dibujar la curva roc para las probabilidades y target entregados\n",
    "    \n",
    "    params:\n",
    "    y: etiquetas originales\n",
    "    y_proba: probabilidades resultado del modelo\n",
    "    '''\n",
    "    \n",
    "    auc_roc = roc_auc_score(y, y_proba)\n",
    "    fpr, tpr, thresholds = roc_curve(y, y_proba)\n",
    "    \n",
    "    plt.figure(figsize=(8,6))\n",
    "    plt.rcParams.update({'font.size': 12})\n",
    "    plt.plot(fpr, fpr, c = 'red')\n",
    "    plt.plot(fpr, tpr, label= (f\"Curva ROC {label} (AUC = {auc_roc:.4f})\"))\n",
    "    plt.xlabel(\"FPR\")\n",
    "    plt.ylabel(\"TPR\")\n",
    "    plt.title(f\"Curva ROC {label}\")\n",
    "    plt.legend(loc=4, numpoints=1)"
   ]
  },
  {
   "cell_type": "code",
   "execution_count": 39,
   "metadata": {
    "tags": []
   },
   "outputs": [
    {
     "data": {
      "text/plain": [
       "0.7436532507739938"
      ]
     },
     "execution_count": 39,
     "metadata": {},
     "output_type": "execute_result"
    }
   ],
   "source": [
    "# ROC AUC\n",
    "roc_auc_score(y_test, y_proba_test)"
   ]
  },
  {
   "cell_type": "markdown",
   "metadata": {},
   "source": [
    "### Gráfica Curva ROC "
   ]
  },
  {
   "cell_type": "code",
   "execution_count": 40,
   "metadata": {
    "tags": []
   },
   "outputs": [
    {
     "data": {
      "image/png": "[encoded data removed]",
      "text/plain": [
       "<Figure size 800x600 with 1 Axes>"
      ]
     },
     "metadata": {},
     "output_type": "display_data"
    }
   ],
   "source": [
    "plot_roc_curve(y_test, y_proba_test, 'Regresión Logística')"
   ]
  },
  {
   "cell_type": "markdown",
   "metadata": {},
   "source": [
    "### Ejecutando con varios optimizadores y reguladores\n",
    "Construiremos el modelo de Regresión logística nuevamente para el mismo conjunto de datos, pero esta vez, usa diferentes valores de <b>solver</b> y <b>regularization</b>. Con esto podemos hacer comparaciones de varios modelos hasta encontrar el más adecuado:"
   ]
  },
  {
   "cell_type": "code",
   "execution_count": 41,
   "metadata": {
    "tags": []
   },
   "outputs": [],
   "source": [
    "from sklearn import metrics"
   ]
  },
  {
   "cell_type": "markdown",
   "metadata": {},
   "source": [
    "Encontramos la mejor combinacion de solver y valor de C que maximice la precision y el AUC"
   ]
  },
  {
   "cell_type": "markdown",
   "metadata": {},
   "source": [
    "## DATO\n",
    "El valor C en la regresión logística es el inverso de la fuerza de regularización. Representa la tolerancia del modelo a errores. Un valor de C más pequeño implica una regularización más fuerte, lo que puede prevenir el sobreajuste pero también puede llevar a un subajuste si es demasiado pequeño."
   ]
  },
  {
   "cell_type": "code",
   "execution_count": 43,
   "metadata": {
    "tags": []
   },
   "outputs": [
    {
     "name": "stdout",
     "output_type": "stream",
     "text": [
      "Solver = newton-cg, C = 0.01 ->Accuracy : 0.6910569105691057 ->AUC : 0.7111455108359133\n",
      "Solver = newton-cg, C = 0.02 ->Accuracy : 0.7073170731707317 ->AUC : 0.7173374613003096\n",
      "Solver = newton-cg, C = 0.05 ->Accuracy : 0.7804878048780488 ->AUC : 0.7207430340557275\n",
      "Solver = newton-cg, C = 0.1 ->Accuracy : 0.8130081300813008 ->AUC : 0.7244582043343654\n",
      "Solver = lbfgs, C = 0.01 ->Accuracy : 0.6910569105691057 ->AUC : 0.7120743034055728\n",
      "Solver = lbfgs, C = 0.02 ->Accuracy : 0.7073170731707317 ->AUC : 0.7173374613003096\n",
      "Solver = lbfgs, C = 0.05 ->Accuracy : 0.7804878048780488 ->AUC : 0.7207430340557275\n",
      "Solver = lbfgs, C = 0.1 ->Accuracy : 0.8130081300813008 ->AUC : 0.7244582043343654\n",
      "Solver = liblinear, C = 0.01 ->Accuracy : 0.6910569105691057 ->AUC : 0.7043343653250775\n",
      "Solver = liblinear, C = 0.02 ->Accuracy : 0.7073170731707317 ->AUC : 0.7139318885448916\n",
      "Solver = liblinear, C = 0.05 ->Accuracy : 0.7723577235772358 ->AUC : 0.7272445820433435\n",
      "Solver = liblinear, C = 0.1 ->Accuracy : 0.8130081300813008 ->AUC : 0.7359133126934985\n",
      "Solver = sag, C = 0.01 ->Accuracy : 0.6910569105691057 ->AUC : 0.7120743034055728\n",
      "Solver = sag, C = 0.02 ->Accuracy : 0.7073170731707317 ->AUC : 0.7173374613003096\n",
      "Solver = sag, C = 0.05 ->Accuracy : 0.7804878048780488 ->AUC : 0.7207430340557275\n",
      "Solver = sag, C = 0.1 ->Accuracy : 0.8130081300813008 ->AUC : 0.7244582043343654\n",
      "Solver = saga, C = 0.01 ->Accuracy : 0.6910569105691057 ->AUC : 0.7123839009287924\n",
      "Solver = saga, C = 0.02 ->Accuracy : 0.7073170731707317 ->AUC : 0.7173374613003096\n",
      "Solver = saga, C = 0.05 ->Accuracy : 0.7804878048780488 ->AUC : 0.7207430340557275\n",
      "Solver = saga, C = 0.1 ->Accuracy : 0.8130081300813008 ->AUC : 0.7244582043343654\n"
     ]
    }
   ],
   "source": [
    "# Parametros: \n",
    "# C: Inverso de la fuerza de regularización; debe ser un flotador positivo. Al igual que en las máquinas de vectores de \n",
    "# soporte, los valores más pequeños especifican una regularización más fuerte.\n",
    "\n",
    "solvers=['newton-cg', 'lbfgs', 'liblinear', 'sag', 'saga']\n",
    "Cs=[0.01,0.02,0.05,0.1]\n",
    "\n",
    "for s in solvers:\n",
    "    for c in Cs:\n",
    "        LR = LogisticRegression(C=c, solver=s).fit(X_train,y_train)\n",
    "        yhat = LR.predict(X_test)\n",
    "        yhat_prob = LR.predict_proba(X_test)[:,1]\n",
    "        print(\"Solver = \"+s+\", C = \"+str(c)+\n",
    "              \" ->Accuracy : \"+str(metrics.accuracy_score(y_test, yhat)) +\n",
    "             \" ->AUC : \"+str(roc_auc_score(y_test, yhat_prob)))"
   ]
  },
  {
   "cell_type": "code",
   "execution_count": 44,
   "metadata": {
    "tags": []
   },
   "outputs": [],
   "source": [
    "max_accuracy = metrics.accuracy_score(y_test, yhat)"
   ]
  },
  {
   "cell_type": "code",
   "execution_count": 45,
   "metadata": {
    "tags": []
   },
   "outputs": [
    {
     "name": "stdout",
     "output_type": "stream",
     "text": [
      "Precisión máxima: 0.8130081300813008\n"
     ]
    }
   ],
   "source": [
    "# max = tr(metrics.accuracy_score(y_test, yhat))\n",
    "# max_accuracy = max(metrics.accuracy_score(y_test, yhat))\n",
    "print(\"Precisión máxima:\", max_accuracy)"
   ]
  },
  {
   "cell_type": "markdown",
   "metadata": {},
   "source": [
    "## Probando Decision Tree"
   ]
  },
  {
   "cell_type": "code",
   "execution_count": 46,
   "metadata": {
    "tags": []
   },
   "outputs": [],
   "source": [
    "from sklearn.tree import DecisionTreeClassifier\n",
    "from sklearn import tree"
   ]
  },
  {
   "cell_type": "code",
   "execution_count": 47,
   "metadata": {
    "tags": []
   },
   "outputs": [],
   "source": [
    "clf = DecisionTreeClassifier(random_state = 2)\n",
    "model_dt = clf.fit(X_train, y_train) "
   ]
  },
  {
   "cell_type": "code",
   "execution_count": 48,
   "metadata": {
    "tags": []
   },
   "outputs": [],
   "source": [
    "pred = model_dt.predict(X_test)"
   ]
  },
  {
   "cell_type": "code",
   "execution_count": 49,
   "metadata": {
    "tags": []
   },
   "outputs": [
    {
     "name": "stdout",
     "output_type": "stream",
     "text": [
      "              precision    recall  f1-score   support\n",
      "\n",
      "           0       0.76      0.55      0.64        85\n",
      "           1       0.38      0.61      0.46        38\n",
      "\n",
      "    accuracy                           0.57       123\n",
      "   macro avg       0.57      0.58      0.55       123\n",
      "weighted avg       0.64      0.57      0.59       123\n",
      "\n"
     ]
    }
   ],
   "source": [
    "print(metrics.classification_report(y_test, pred))"
   ]
  },
  {
   "cell_type": "code",
   "execution_count": 50,
   "metadata": {
    "tags": []
   },
   "outputs": [
    {
     "data": {
      "image/png": "[encoded data removed]",
      "text/plain": [
       "<Figure size 800x600 with 1 Axes>"
      ]
     },
     "metadata": {},
     "output_type": "display_data"
    }
   ],
   "source": [
    "y_proba_test = model_dt.predict_proba(X_test)[:,1]\n",
    "plot_roc_curve(y_test, y_proba_test, 'Decision Tree')"
   ]
  },
  {
   "cell_type": "markdown",
   "metadata": {},
   "source": [
    "## Probando Random Forest"
   ]
  },
  {
   "cell_type": "code",
   "execution_count": 51,
   "metadata": {
    "tags": []
   },
   "outputs": [],
   "source": [
    "from sklearn.ensemble import RandomForestClassifier"
   ]
  },
  {
   "cell_type": "code",
   "execution_count": 52,
   "metadata": {
    "tags": []
   },
   "outputs": [],
   "source": [
    "rfc = RandomForestClassifier(max_depth = 25, random_state = 0)\n",
    "model_rfc = rfc.fit(X_train, y_train)\n",
    "pred_rfc = model_rfc.predict(X_test)"
   ]
  },
  {
   "cell_type": "code",
   "execution_count": 53,
   "metadata": {
    "tags": []
   },
   "outputs": [
    {
     "name": "stdout",
     "output_type": "stream",
     "text": [
      "              precision    recall  f1-score   support\n",
      "\n",
      "           0       0.82      0.87      0.85        85\n",
      "           1       0.67      0.58      0.62        38\n",
      "\n",
      "    accuracy                           0.78       123\n",
      "   macro avg       0.74      0.72      0.73       123\n",
      "weighted avg       0.77      0.78      0.78       123\n",
      "\n"
     ]
    }
   ],
   "source": [
    "print(metrics.classification_report(y_test, pred_rfc))"
   ]
  },
  {
   "cell_type": "code",
   "execution_count": 54,
   "metadata": {
    "tags": []
   },
   "outputs": [
    {
     "data": {
      "image/png": "[encoded data removed]",
      "text/plain": [
       "<Figure size 800x600 with 1 Axes>"
      ]
     },
     "metadata": {},
     "output_type": "display_data"
    }
   ],
   "source": [
    "y_proba_test = model_rfc.predict_proba(X_test)[:,1]\n",
    "plot_roc_curve(y_test, y_proba_test, 'Random Forest')"
   ]
  },
  {
   "cell_type": "markdown",
   "metadata": {},
   "source": [
    "## Solidificando"
   ]
  },
  {
   "cell_type": "markdown",
   "metadata": {},
   "source": [
    "### Implementacion de Validacion Cruzada"
   ]
  },
  {
   "cell_type": "markdown",
   "metadata": {},
   "source": [
    "La validación cruzada es una técnica utilizada para evaluar la capacidad de generalización de un modelo de Machine Learning. Consiste en dividir el conjunto de datos en múltiples segmentos (o \"folds\") y entrenar el modelo varias veces, cada vez utilizando un segmento diferente como conjunto de prueba y el resto como conjunto de entrenamiento. Esto proporciona una estimación más robusta del rendimiento del modelo al evitar el sobreajuste y asegurando que el modelo se evalúe en diferentes subconjuntos de datos."
   ]
  },
  {
   "cell_type": "code",
   "execution_count": 61,
   "metadata": {},
   "outputs": [],
   "source": [
    "from sklearn.model_selection import cross_val_score"
   ]
  },
  {
   "cell_type": "code",
   "execution_count": 62,
   "metadata": {},
   "outputs": [
    {
     "name": "stdout",
     "output_type": "stream",
     "text": [
      "Logistic Regression - Cross-validated AUC scores: [0.83206831 0.85637255 0.7072701  0.69571497 0.77804526]\n",
      "Logistic Regression - Mean AUC score: 0.7738942384849944\n",
      "\n",
      "Decision Tree - Cross-validated AUC scores: [0.61551233 0.66372549 0.57655272 0.69571497 0.76528647]\n",
      "Decision Tree - Mean AUC score: 0.6633583977644981\n",
      "\n",
      "Random Forest - Cross-validated AUC scores: [0.76660342 0.78137255 0.67164179 0.80067405 0.81078479]\n",
      "Random Forest - Mean AUC score: 0.7662153180964248\n",
      "\n"
     ]
    }
   ],
   "source": [
    "# Definir los modelos usados\n",
    "models = {\n",
    "    'Logistic Regression': LogisticRegression(C=0.1, solver='liblinear', random_state=seed),\n",
    "    'Decision Tree': DecisionTreeClassifier(random_state=seed),\n",
    "    'Random Forest': RandomForestClassifier(random_state=seed)\n",
    "}\n",
    "\n",
    "# Realizar validación cruzada y mostrar resultados\n",
    "for name, model in models.items():\n",
    "    scores = cross_val_score(model, X_train, y_train, cv=5, scoring='roc_auc')\n",
    "    print(f\"{name} - Cross-validated AUC scores: {scores}\")\n",
    "    print(f\"{name} - Mean AUC score: {scores.mean()}\\n\")"
   ]
  },
  {
   "cell_type": "markdown",
   "metadata": {},
   "source": [
    "### Optimización de Hiperparámetros con GridSearchCV"
   ]
  },
  {
   "cell_type": "markdown",
   "metadata": {},
   "source": [
    "La optimización de hiperparámetros con GridSearchCV es una técnica que permite encontrar la mejor combinación de parámetros para un modelo de Machine Learning. GridSearchCV realiza una búsqueda exhaustiva en un espacio de hiperparámetros especificado y evalúa cada combinación utilizando validación cruzada."
   ]
  },
  {
   "cell_type": "code",
   "execution_count": 63,
   "metadata": {},
   "outputs": [],
   "source": [
    "from sklearn.model_selection import GridSearchCV\n"
   ]
  },
  {
   "cell_type": "code",
   "execution_count": 64,
   "metadata": {},
   "outputs": [
    {
     "name": "stdout",
     "output_type": "stream",
     "text": [
      "Optimizing Logistic Regression...\n",
      "Best parameters for Logistic Regression: {'C': 0.05, 'solver': 'sag'}\n",
      "Best cross-validated AUC score for Logistic Regression: 0.7828614045521916\n",
      "\n",
      "Optimizing Decision Tree...\n",
      "Best parameters for Decision Tree: {'max_depth': None, 'min_samples_leaf': 4, 'min_samples_split': 10}\n",
      "Best cross-validated AUC score for Decision Tree: 0.7409591983158212\n",
      "\n",
      "Optimizing Random Forest...\n",
      "Best parameters for Random Forest: {'max_depth': 10, 'min_samples_leaf': 1, 'min_samples_split': 10, 'n_estimators': 100}\n",
      "Best cross-validated AUC score for Random Forest: 0.7914995232565822\n",
      "\n"
     ]
    }
   ],
   "source": [
    "# Definir los modelos y sus respectivos espacios de hiperparámetros\n",
    "param_grids = {\n",
    "    'Logistic Regression': {\n",
    "        'solver': ['newton-cg', 'lbfgs', 'liblinear', 'sag', 'saga'],\n",
    "        'C': [0.01, 0.02, 0.05, 0.1, 1.0, 10.0]\n",
    "    },\n",
    "    'Decision Tree': {\n",
    "        'max_depth': [None, 10, 20, 30, 40, 50],\n",
    "        'min_samples_split': [2, 5, 10],\n",
    "        'min_samples_leaf': [1, 2, 4]\n",
    "    },\n",
    "    'Random Forest': {\n",
    "        'n_estimators': [100, 200, 300],\n",
    "        'max_depth': [None, 10, 20, 30],\n",
    "        'min_samples_split': [2, 5, 10],\n",
    "        'min_samples_leaf': [1, 2, 4]\n",
    "    }\n",
    "}\n",
    "\n",
    "models = {\n",
    "    'Logistic Regression': LogisticRegression(random_state=seed),\n",
    "    'Decision Tree': DecisionTreeClassifier(random_state=seed),\n",
    "    'Random Forest': RandomForestClassifier(random_state=seed)\n",
    "}\n",
    "\n",
    "# Realizar GridSearchCV para cada modelo\n",
    "for name, model in models.items():\n",
    "    print(f\"Optimizing {name}...\")\n",
    "    grid_search = GridSearchCV(model, param_grids[name], cv=5, scoring='roc_auc', n_jobs=-1)\n",
    "    grid_search.fit(X_train, y_train)\n",
    "    print(f\"Best parameters for {name}: {grid_search.best_params_}\")\n",
    "    print(f\"Best cross-validated AUC score for {name}: {grid_search.best_score_}\\n\")\n"
   ]
  },
  {
   "cell_type": "markdown",
   "metadata": {},
   "source": [
    "### Comparacion de Multiples Modelos"
   ]
  },
  {
   "cell_type": "code",
   "execution_count": 68,
   "metadata": {},
   "outputs": [
    {
     "name": "stdout",
     "output_type": "stream",
     "text": [
      "1.5.1\n"
     ]
    }
   ],
   "source": [
    "import sklearn\n",
    "print(sklearn.__version__)"
   ]
  },
  {
   "cell_type": "code",
   "execution_count": 72,
   "metadata": {},
   "outputs": [
    {
     "name": "stdout",
     "output_type": "stream",
     "text": [
      "Logistic Regression -> Accuracy: 0.8130 -> AUC: 0.7359\n",
      "Decision Tree -> Accuracy: 0.6016 -> AUC: 0.6015\n",
      "Random Forest -> Accuracy: 0.8211 -> AUC: 0.7765\n"
     ]
    },
    {
     "data": {
      "image/png": "[encoded data removed]",
      "text/plain": [
       "<Figure size 640x480 with 1 Axes>"
      ]
     },
     "metadata": {},
     "output_type": "display_data"
    },
    {
     "data": {
      "image/png": "[encoded data removed]",
      "text/plain": [
       "<Figure size 640x480 with 2 Axes>"
      ]
     },
     "metadata": {},
     "output_type": "display_data"
    },
    {
     "data": {
      "image/png": "[encoded data removed]",
      "text/plain": [
       "<Figure size 640x480 with 2 Axes>"
      ]
     },
     "metadata": {},
     "output_type": "display_data"
    },
    {
     "data": {
      "image/png": "[encoded data removed]",
      "text/plain": [
       "<Figure size 640x480 with 2 Axes>"
      ]
     },
     "metadata": {},
     "output_type": "display_data"
    }
   ],
   "source": [
    "from sklearn.ensemble import RandomForestClassifier\n",
    "from sklearn.tree import DecisionTreeClassifier\n",
    "from sklearn.linear_model import LogisticRegression\n",
    "from sklearn.metrics import accuracy_score, roc_auc_score, roc_curve, ConfusionMatrixDisplay\n",
    "\n",
    "# Definir los modelos\n",
    "models = {\n",
    "    'Logistic Regression': LogisticRegression(C=0.1, solver='liblinear', random_state=seed),\n",
    "    'Decision Tree': DecisionTreeClassifier(max_depth=20, min_samples_split=5, min_samples_leaf=2, random_state=seed),\n",
    "    'Random Forest': RandomForestClassifier(n_estimators=200, max_depth=20, min_samples_split=5, min_samples_leaf=2, random_state=seed)\n",
    "}\n",
    "\n",
    "# Entrenar, predecir y evaluar cada modelo\n",
    "for name, model in models.items():\n",
    "    model.fit(X_train, y_train)\n",
    "    y_pred = model.predict(X_test)\n",
    "    y_prob = model.predict_proba(X_test)[:, 1]\n",
    "    \n",
    "    accuracy = accuracy_score(y_test, y_pred)\n",
    "    auc = roc_auc_score(y_test, y_prob)\n",
    "    \n",
    "    print(f\"{name} -> Accuracy: {accuracy:.4f} -> AUC: {auc:.4f}\")\n",
    "\n",
    "    # Curva ROC\n",
    "    fpr, tpr, _ = roc_curve(y_test, y_prob)\n",
    "    plt.plot(fpr, tpr, label=f'{name} (AUC = {auc:.2f})')\n",
    "\n",
    "plt.plot([0, 1], [0, 1], 'k--')\n",
    "plt.xlim([0.0, 1.0])\n",
    "plt.ylim([0.0, 1.05])\n",
    "plt.xlabel('False Positive Rate')\n",
    "plt.ylabel('True Positive Rate')\n",
    "plt.title('Receiver Operating Characteristic')\n",
    "plt.legend(loc='lower right')\n",
    "plt.show()\n",
    "\n",
    "# Matrices de confusion\n",
    "for name, model in models.items():\n",
    "    disp = ConfusionMatrixDisplay.from_estimator(model, X_test, y_test)\n",
    "    disp.ax_.set_title(f'{name} - Confusion Matrix')\n",
    "    plt.show()"
   ]
  },
  {
   "cell_type": "markdown",
   "metadata": {},
   "source": [
    "## Modelo Seleccionado"
   ]
  },
  {
   "cell_type": "markdown",
   "metadata": {},
   "source": [
    "Con base en las evaluaciones anteriores, el modelo de Random Forest se destaca como la mejor opción para la predicción de aprobación de préstamos. A continuación, se detallan las razones por las cuales se selecciona este modelo:\n",
    "\n",
    "* Rendimiento General: Random Forest presentó la mayor precisión (0.8211) y un AUC relativamente alto (0.7765) en la comparación final de modelos.\n",
    "\n",
    "\n",
    "* Consistencia en Validación Cruzada: Aunque la Regresión Logística mostró un buen rendimiento, el modelo de Random Forest fue más consistente en sus resultados de validación cruzada con una mejor AUC promedio.\n",
    "\n",
    "* Optimización de Hiperparámetros: Random Forest obtuvo la mejor puntuación AUC (0.7915) durante la optimización de hiperparámetros con GridSearchCV, indicando que es el modelo más adecuado cuando se ajustan correctamente sus parámetros."
   ]
  },
  {
   "cell_type": "markdown",
   "metadata": {},
   "source": [
    "### Analisis de Resultados del Modelo seleccionado"
   ]
  },
  {
   "cell_type": "markdown",
   "metadata": {},
   "source": [
    "El modelo de Random Forest fue seleccionado por su rendimiento superior en la predicción de la aprobación de préstamos. Los resultados indican que el modelo tiene una precisión del 78%, lo cual es un buen indicador de su capacidad para realizar predicciones precisas. Además, el modelo predice que aproximadamente el 21.95% de los solicitantes serán aprobados para el préstamo, mientras que el 78.05% no lo serán. Esto refleja una distribución esperada en escenarios donde los criterios para la aprobación son estrictos. La alta precisión del modelo sugiere que puede ser utilizado con confianza en un entorno de producción para ayudar en el proceso de toma de decisiones relacionadas con la aprobación de préstamos."
   ]
  },
  {
   "cell_type": "code",
   "execution_count": 74,
   "metadata": {},
   "outputs": [
    {
     "name": "stdout",
     "output_type": "stream",
     "text": [
      "Porcentaje de personas que aprueban el préstamo: 21.95 %\n",
      "Porcentaje de personas que no aprueban el préstamo: 78.05 %\n",
      "Porcentaje total de aciertos: 78 %\n"
     ]
    }
   ],
   "source": [
    "# Ejemplo de Random Forest\n",
    "best_model = RandomForestClassifier(max_depth=10, min_samples_leaf=1, min_samples_split=10, n_estimators=100, random_state=seed)\n",
    "best_model.fit(X_train, y_train)\n",
    "pred_rfc = best_model.predict(X_test)\n",
    "\n",
    "# Solidificando - Análisis de Resultados\n",
    "cantidad_total = len(pred_rfc)\n",
    "cantidad_aprobados = sum(pred_rfc == 1)\n",
    "cantidad_no_aprobados = sum(pred_rfc == 0)\n",
    "\n",
    "porcentaje_aprobados = round((cantidad_aprobados / cantidad_total) * 100, 2)\n",
    "porcentaje_no_aprobados = round((cantidad_no_aprobados / cantidad_total) * 100, 2)\n",
    "\n",
    "print(\"Porcentaje de personas que aprueban el préstamo:\", porcentaje_aprobados, \"%\")\n",
    "print(\"Porcentaje de personas que no aprueban el préstamo:\", porcentaje_no_aprobados, \"%\")\n",
    "\n",
    "aciertos = sum(pred_rfc == y_test)\n",
    "porcentaje_aciertos = round((aciertos / cantidad_total) * 100)\n",
    "\n",
    "print(\"Porcentaje total de aciertos:\", porcentaje_aciertos, \"%\")"
   ]
  }
 ],
 "metadata": {
  "colab": {
   "collapsed_sections": [],
   "name": "S03_Modelamiento_EntrenamientoyValidacion.ipynb",
   "provenance": []
  },
  "kernelspec": {
   "display_name": "Python 3 (ipykernel)",
   "language": "python",
   "name": "python3"
  },
  "language_info": {
   "codemirror_mode": {
    "name": "ipython",
    "version": 3
   },
   "file_extension": ".py",
   "mimetype": "text/x-python",
   "name": "python",
   "nbconvert_exporter": "python",
   "pygments_lexer": "ipython3",
   "version": "3.11.9"
  },
  "toc": {
   "base_numbering": 1,
   "nav_menu": {},
   "number_sections": true,
   "sideBar": true,
   "skip_h1_title": false,
   "title_cell": "Table of Contents",
   "title_sidebar": "Contents",
   "toc_cell": false,
   "toc_position": {
    "height": "calc(100% - 180px)",
    "left": "10px",
    "top": "150px",
    "width": "165px"
   },
   "toc_section_display": true,
   "toc_window_display": false
  },
  "varInspector": {
   "cols": {
    "lenName": 16,
    "lenType": 16,
    "lenVar": 40
   },
   "kernels_config": {
    "python": {
     "delete_cmd_postfix": "",
     "delete_cmd_prefix": "del ",
     "library": "var_list.py",
     "varRefreshCmd": "print(var_dic_list())"
    },
    "r": {
     "delete_cmd_postfix": ") ",
     "delete_cmd_prefix": "rm(",
     "library": "var_list.r",
     "varRefreshCmd": "cat(var_dic_list()) "
    }
   },
   "types_to_exclude": [
    "module",
    "function",
    "builtin_function_or_method",
    "instance",
    "_Feature"
   ],
   "window_display": false
  }
 },
 "nbformat": 4,
 "nbformat_minor": 4
}
