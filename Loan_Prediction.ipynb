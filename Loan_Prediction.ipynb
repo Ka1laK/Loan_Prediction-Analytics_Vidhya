{
 "cells": [
  {
   "cell_type": "markdown",
   "metadata": {
    "id": "DOGa617qS5Ly"
   },
   "source": [
    "# <u>LOAN PREDICTION</u>"
   ]
  },
  {
   "cell_type": "markdown",
   "metadata": {},
   "source": [
    "## Caso de uso"
   ]
  },
  {
   "cell_type": "markdown",
   "metadata": {
    "executionInfo": {
     "elapsed": 294,
     "status": "ok",
     "timestamp": 1631346500408,
     "user": {
      "displayName": "ANDRE OMAR CHAVEZ PANDURO",
      "photoUrl": "https://lh3.googleusercontent.com/a-/AOh14GhhoQ1kbFXrI1LHS5aCbnzbQoTSVMlrpsL1-iED=s64",
      "userId": "14331399592622880507"
     },
     "user_tz": 300
    },
    "id": "0YiISVrXTP5y"
   },
   "source": [
    "<img src = 'https://datahack-prod.s3.ap-south-1.amazonaws.com/__sized__/contest_cover/loanpre-thumbnail-1200x1200.png'>"
   ]
  },
  {
   "cell_type": "markdown",
   "metadata": {
    "id": "sUu4EsJ0b9y2"
   },
   "source": [
    "### Importación de librerías iniciales"
   ]
  },
  {
   "cell_type": "code",
   "execution_count": 5,
   "metadata": {
    "executionInfo": {
     "elapsed": 783,
     "status": "ok",
     "timestamp": 1631341378824,
     "user": {
      "displayName": "ANDRE OMAR CHAVEZ PANDURO",
      "photoUrl": "https://lh3.googleusercontent.com/a-/AOh14GhhoQ1kbFXrI1LHS5aCbnzbQoTSVMlrpsL1-iED=s64",
      "userId": "14331399592622880507"
     },
     "user_tz": 300
    },
    "id": "AnIT4fBaS5MD",
    "tags": []
   },
   "outputs": [],
   "source": [
    "import warnings\n",
    "warnings.filterwarnings(\"ignore\")\n",
    "\n",
    "#Importar las librerías necesarias en Python.\n",
    "import pandas as pd      ## Manejo de dataframes o set de datos\n",
    "import numpy as np       ## Todo lo referente a trabajar con vectores y matrices\n",
    "from scipy import stats  ## Herramientas y algoritmos matemáticos para python\n",
    "\n",
    "import seaborn as sns\n",
    "import matplotlib.pyplot as plt"
   ]
  },
  {
   "cell_type": "markdown",
   "metadata": {
    "id": "asQF3BoeS5MI"
   },
   "source": [
    "Usamos una semilla a lo largo de todo el notebook para los procesos aleatorios"
   ]
  },
  {
   "cell_type": "code",
   "execution_count": 6,
   "metadata": {
    "tags": []
   },
   "outputs": [],
   "source": [
    "seed = 2023"
   ]
  },
  {
   "cell_type": "code",
   "execution_count": 7,
   "metadata": {
    "tags": []
   },
   "outputs": [],
   "source": [
    "target = 'Loan_Status'"
   ]
  },
  {
   "cell_type": "markdown",
   "metadata": {},
   "source": [
    "El estado del préstamo puede tener dos valores: Sí o NO. \n",
    "\n",
    "Sí: si se aprueba el préstamo \n",
    "\n",
    "NO: si no se aprueba el préstamo \n",
    "\n",
    "Entonces, al usar el conjunto de datos de entrenamiento, entrenaremos nuestro modelo e intentaremos predecir nuestra columna de destino que es \"Loan_Status\" en el conjunto de datos de prueba."
   ]
  },
  {
   "cell_type": "markdown",
   "metadata": {
    "id": "UnPnopgUS5MN"
   },
   "source": [
    "### **Lectura Inicial de base de datos**"
   ]
  },
  {
   "cell_type": "markdown",
   "metadata": {},
   "source": [
    "Utilizaremos las bases de este caso ya preprocesadas en el notebook 1 Procesamiento de datos. Estas bases ya recibieron el siguiente tratamiento previo:\n",
    "\n",
    "1. División train test 80/20\n",
    "2. Tratamiento de nulos\n",
    "3. Labeling de variables\n",
    "4. Encoding de variables categóricas (dummys)\n",
    "5. Tratamiento de valores extremos y outliers\n",
    "6. Creación de nuevas variables\n",
    "7. Reescalamiento final de la base\n"
   ]
  },
  {
   "cell_type": "code",
   "execution_count": 8,
   "metadata": {
    "executionInfo": {
     "elapsed": 1574,
     "status": "ok",
     "timestamp": 1631341381955,
     "user": {
      "displayName": "ANDRE OMAR CHAVEZ PANDURO",
      "photoUrl": "https://lh3.googleusercontent.com/a-/AOh14GhhoQ1kbFXrI1LHS5aCbnzbQoTSVMlrpsL1-iED=s64",
      "userId": "14331399592622880507"
     },
     "user_tz": 300
    },
    "id": "pJ3QaE1oS5MP",
    "tags": []
   },
   "outputs": [],
   "source": [
    "train = pd.read_csv('data/train_preprocesed.csv')\n",
    "test = pd.read_csv('data/test_preprocesed.csv')"
   ]
  },
  {
   "cell_type": "code",
   "execution_count": 9,
   "metadata": {
    "executionInfo": {
     "elapsed": 287,
     "status": "ok",
     "timestamp": 1631346514989,
     "user": {
      "displayName": "ANDRE OMAR CHAVEZ PANDURO",
      "photoUrl": "https://lh3.googleusercontent.com/a-/AOh14GhhoQ1kbFXrI1LHS5aCbnzbQoTSVMlrpsL1-iED=s64",
      "userId": "14331399592622880507"
     },
     "user_tz": 300
    },
    "id": "cS6x4KsDS5MV",
    "tags": []
   },
   "outputs": [
    {
     "data": {
      "text/plain": [
       "(491, 19)"
      ]
     },
     "execution_count": 9,
     "metadata": {},
     "output_type": "execute_result"
    }
   ],
   "source": [
    "# Vemos la dimensionalidad de la base train\n",
    "train.shape"
   ]
  },
  {
   "cell_type": "code",
   "execution_count": 10,
   "metadata": {},
   "outputs": [
    {
     "data": {
      "text/plain": [
       "(123, 19)"
      ]
     },
     "execution_count": 10,
     "metadata": {},
     "output_type": "execute_result"
    }
   ],
   "source": [
    "# Vemos la dimensionalidad de la base test\n",
    "test.shape"
   ]
  },
  {
   "cell_type": "code",
   "execution_count": 11,
   "metadata": {
    "executionInfo": {
     "elapsed": 304,
     "status": "ok",
     "timestamp": 1631346519221,
     "user": {
      "displayName": "ANDRE OMAR CHAVEZ PANDURO",
      "photoUrl": "https://lh3.googleusercontent.com/a-/AOh14GhhoQ1kbFXrI1LHS5aCbnzbQoTSVMlrpsL1-iED=s64",
      "userId": "14331399592622880507"
     },
     "user_tz": 300
    },
    "id": "zm4WmZlxS5Me",
    "tags": []
   },
   "outputs": [
    {
     "data": {
      "text/html": [
       "<div>\n",
       "<style scoped>\n",
       "    .dataframe tbody tr th:only-of-type {\n",
       "        vertical-align: middle;\n",
       "    }\n",
       "\n",
       "    .dataframe tbody tr th {\n",
       "        vertical-align: top;\n",
       "    }\n",
       "\n",
       "    .dataframe thead th {\n",
       "        text-align: right;\n",
       "    }\n",
       "</style>\n",
       "<table border=\"1\" class=\"dataframe\">\n",
       "  <thead>\n",
       "    <tr style=\"text-align: right;\">\n",
       "      <th></th>\n",
       "      <th>Dependents</th>\n",
       "      <th>ApplicantIncome</th>\n",
       "      <th>CoapplicantIncome</th>\n",
       "      <th>LoanAmount</th>\n",
       "      <th>Loan_Amount_Term</th>\n",
       "      <th>Credit_History</th>\n",
       "      <th>Gender_Male</th>\n",
       "      <th>Married_Yes</th>\n",
       "      <th>Education_Not Graduate</th>\n",
       "      <th>Self_Employed_Yes</th>\n",
       "      <th>Property_Area_Semiurban</th>\n",
       "      <th>Property_Area_Urban</th>\n",
       "      <th>TotalIncome</th>\n",
       "      <th>TotalIncomeByPerson</th>\n",
       "      <th>Cuota</th>\n",
       "      <th>%Cuota</th>\n",
       "      <th>log_ApplicantIncome</th>\n",
       "      <th>log_TotalIncome</th>\n",
       "      <th>Loan_Status</th>\n",
       "    </tr>\n",
       "  </thead>\n",
       "  <tbody>\n",
       "    <tr>\n",
       "      <th>0</th>\n",
       "      <td>0.000000</td>\n",
       "      <td>0.041586</td>\n",
       "      <td>0.046296</td>\n",
       "      <td>0.094067</td>\n",
       "      <td>0.729730</td>\n",
       "      <td>1.0</td>\n",
       "      <td>1.0</td>\n",
       "      <td>0.0</td>\n",
       "      <td>0.0</td>\n",
       "      <td>0.0</td>\n",
       "      <td>0.0</td>\n",
       "      <td>1.0</td>\n",
       "      <td>0.060630</td>\n",
       "      <td>0.092567</td>\n",
       "      <td>0.042180</td>\n",
       "      <td>0.036690</td>\n",
       "      <td>0.211970</td>\n",
       "      <td>0.296906</td>\n",
       "      <td>0</td>\n",
       "    </tr>\n",
       "    <tr>\n",
       "      <th>1</th>\n",
       "      <td>0.000000</td>\n",
       "      <td>0.046800</td>\n",
       "      <td>0.000000</td>\n",
       "      <td>0.130246</td>\n",
       "      <td>0.729730</td>\n",
       "      <td>0.0</td>\n",
       "      <td>0.0</td>\n",
       "      <td>0.0</td>\n",
       "      <td>0.0</td>\n",
       "      <td>0.0</td>\n",
       "      <td>1.0</td>\n",
       "      <td>0.0</td>\n",
       "      <td>0.016873</td>\n",
       "      <td>0.040946</td>\n",
       "      <td>0.058404</td>\n",
       "      <td>0.098886</td>\n",
       "      <td>0.230720</td>\n",
       "      <td>0.116246</td>\n",
       "      <td>1</td>\n",
       "    </tr>\n",
       "    <tr>\n",
       "      <th>2</th>\n",
       "      <td>0.666667</td>\n",
       "      <td>0.651745</td>\n",
       "      <td>0.024336</td>\n",
       "      <td>0.204052</td>\n",
       "      <td>0.729730</td>\n",
       "      <td>1.0</td>\n",
       "      <td>1.0</td>\n",
       "      <td>1.0</td>\n",
       "      <td>0.0</td>\n",
       "      <td>1.0</td>\n",
       "      <td>0.0</td>\n",
       "      <td>0.0</td>\n",
       "      <td>0.390230</td>\n",
       "      <td>0.146999</td>\n",
       "      <td>0.091499</td>\n",
       "      <td>0.013618</td>\n",
       "      <td>0.872503</td>\n",
       "      <td>0.737429</td>\n",
       "      <td>0</td>\n",
       "    </tr>\n",
       "    <tr>\n",
       "      <th>3</th>\n",
       "      <td>1.000000</td>\n",
       "      <td>0.087040</td>\n",
       "      <td>0.000000</td>\n",
       "      <td>0.150507</td>\n",
       "      <td>0.729730</td>\n",
       "      <td>1.0</td>\n",
       "      <td>1.0</td>\n",
       "      <td>1.0</td>\n",
       "      <td>1.0</td>\n",
       "      <td>0.0</td>\n",
       "      <td>0.0</td>\n",
       "      <td>0.0</td>\n",
       "      <td>0.040073</td>\n",
       "      <td>0.001930</td>\n",
       "      <td>0.067489</td>\n",
       "      <td>0.076764</td>\n",
       "      <td>0.346811</td>\n",
       "      <td>0.225431</td>\n",
       "      <td>0</td>\n",
       "    </tr>\n",
       "    <tr>\n",
       "      <th>4</th>\n",
       "      <td>0.666667</td>\n",
       "      <td>0.011521</td>\n",
       "      <td>0.026064</td>\n",
       "      <td>0.011577</td>\n",
       "      <td>0.189189</td>\n",
       "      <td>1.0</td>\n",
       "      <td>1.0</td>\n",
       "      <td>1.0</td>\n",
       "      <td>0.0</td>\n",
       "      <td>0.0</td>\n",
       "      <td>0.0</td>\n",
       "      <td>1.0</td>\n",
       "      <td>0.022861</td>\n",
       "      <td>0.002538</td>\n",
       "      <td>0.027255</td>\n",
       "      <td>0.042599</td>\n",
       "      <td>0.074347</td>\n",
       "      <td>0.148516</td>\n",
       "      <td>0</td>\n",
       "    </tr>\n",
       "  </tbody>\n",
       "</table>\n",
       "</div>"
      ],
      "text/plain": [
       "   Dependents  ApplicantIncome  CoapplicantIncome  LoanAmount  \\\n",
       "0    0.000000         0.041586           0.046296    0.094067   \n",
       "1    0.000000         0.046800           0.000000    0.130246   \n",
       "2    0.666667         0.651745           0.024336    0.204052   \n",
       "3    1.000000         0.087040           0.000000    0.150507   \n",
       "4    0.666667         0.011521           0.026064    0.011577   \n",
       "\n",
       "   Loan_Amount_Term  Credit_History  Gender_Male  Married_Yes  \\\n",
       "0          0.729730             1.0          1.0          0.0   \n",
       "1          0.729730             0.0          0.0          0.0   \n",
       "2          0.729730             1.0          1.0          1.0   \n",
       "3          0.729730             1.0          1.0          1.0   \n",
       "4          0.189189             1.0          1.0          1.0   \n",
       "\n",
       "   Education_Not Graduate  Self_Employed_Yes  Property_Area_Semiurban  \\\n",
       "0                     0.0                0.0                      0.0   \n",
       "1                     0.0                0.0                      1.0   \n",
       "2                     0.0                1.0                      0.0   \n",
       "3                     1.0                0.0                      0.0   \n",
       "4                     0.0                0.0                      0.0   \n",
       "\n",
       "   Property_Area_Urban  TotalIncome  TotalIncomeByPerson     Cuota    %Cuota  \\\n",
       "0                  1.0     0.060630             0.092567  0.042180  0.036690   \n",
       "1                  0.0     0.016873             0.040946  0.058404  0.098886   \n",
       "2                  0.0     0.390230             0.146999  0.091499  0.013618   \n",
       "3                  0.0     0.040073             0.001930  0.067489  0.076764   \n",
       "4                  1.0     0.022861             0.002538  0.027255  0.042599   \n",
       "\n",
       "   log_ApplicantIncome  log_TotalIncome  Loan_Status  \n",
       "0             0.211970         0.296906            0  \n",
       "1             0.230720         0.116246            1  \n",
       "2             0.872503         0.737429            0  \n",
       "3             0.346811         0.225431            0  \n",
       "4             0.074347         0.148516            0  "
      ]
     },
     "execution_count": 11,
     "metadata": {},
     "output_type": "execute_result"
    }
   ],
   "source": [
    "# Visualizacion Global de los datos train\n",
    "train.head()"
   ]
  },
  {
   "cell_type": "code",
   "execution_count": 12,
   "metadata": {},
   "outputs": [
    {
     "data": {
      "text/html": [
       "<div>\n",
       "<style scoped>\n",
       "    .dataframe tbody tr th:only-of-type {\n",
       "        vertical-align: middle;\n",
       "    }\n",
       "\n",
       "    .dataframe tbody tr th {\n",
       "        vertical-align: top;\n",
       "    }\n",
       "\n",
       "    .dataframe thead th {\n",
       "        text-align: right;\n",
       "    }\n",
       "</style>\n",
       "<table border=\"1\" class=\"dataframe\">\n",
       "  <thead>\n",
       "    <tr style=\"text-align: right;\">\n",
       "      <th></th>\n",
       "      <th>Dependents</th>\n",
       "      <th>ApplicantIncome</th>\n",
       "      <th>CoapplicantIncome</th>\n",
       "      <th>LoanAmount</th>\n",
       "      <th>Loan_Amount_Term</th>\n",
       "      <th>Credit_History</th>\n",
       "      <th>Gender_Male</th>\n",
       "      <th>Married_Yes</th>\n",
       "      <th>Education_Not Graduate</th>\n",
       "      <th>Self_Employed_Yes</th>\n",
       "      <th>Property_Area_Semiurban</th>\n",
       "      <th>Property_Area_Urban</th>\n",
       "      <th>TotalIncome</th>\n",
       "      <th>TotalIncomeByPerson</th>\n",
       "      <th>Cuota</th>\n",
       "      <th>%Cuota</th>\n",
       "      <th>log_ApplicantIncome</th>\n",
       "      <th>log_TotalIncome</th>\n",
       "      <th>Loan_Status</th>\n",
       "    </tr>\n",
       "  </thead>\n",
       "  <tbody>\n",
       "    <tr>\n",
       "      <th>0</th>\n",
       "      <td>0.000000</td>\n",
       "      <td>0.062021</td>\n",
       "      <td>0.0000</td>\n",
       "      <td>0.106383</td>\n",
       "      <td>1.000000</td>\n",
       "      <td>1.0</td>\n",
       "      <td>1.0</td>\n",
       "      <td>0.0</td>\n",
       "      <td>0.0</td>\n",
       "      <td>0.0</td>\n",
       "      <td>1.0</td>\n",
       "      <td>0.0</td>\n",
       "      <td>0.029159</td>\n",
       "      <td>0.083882</td>\n",
       "      <td>0.010929</td>\n",
       "      <td>0.054989</td>\n",
       "      <td>0.279810</td>\n",
       "      <td>0.119676</td>\n",
       "      <td>1</td>\n",
       "    </tr>\n",
       "    <tr>\n",
       "      <th>1</th>\n",
       "      <td>0.000000</td>\n",
       "      <td>0.221089</td>\n",
       "      <td>0.2208</td>\n",
       "      <td>0.306738</td>\n",
       "      <td>0.743590</td>\n",
       "      <td>0.0</td>\n",
       "      <td>1.0</td>\n",
       "      <td>0.0</td>\n",
       "      <td>0.0</td>\n",
       "      <td>0.0</td>\n",
       "      <td>0.0</td>\n",
       "      <td>0.0</td>\n",
       "      <td>0.385990</td>\n",
       "      <td>0.420599</td>\n",
       "      <td>0.052520</td>\n",
       "      <td>0.033955</td>\n",
       "      <td>0.569021</td>\n",
       "      <td>0.677390</td>\n",
       "      <td>1</td>\n",
       "    </tr>\n",
       "    <tr>\n",
       "      <th>2</th>\n",
       "      <td>0.000000</td>\n",
       "      <td>0.209189</td>\n",
       "      <td>0.0000</td>\n",
       "      <td>0.186170</td>\n",
       "      <td>0.743590</td>\n",
       "      <td>1.0</td>\n",
       "      <td>1.0</td>\n",
       "      <td>0.0</td>\n",
       "      <td>0.0</td>\n",
       "      <td>0.0</td>\n",
       "      <td>0.0</td>\n",
       "      <td>1.0</td>\n",
       "      <td>0.181483</td>\n",
       "      <td>0.227620</td>\n",
       "      <td>0.031876</td>\n",
       "      <td>0.042957</td>\n",
       "      <td>0.554557</td>\n",
       "      <td>0.455514</td>\n",
       "      <td>0</td>\n",
       "    </tr>\n",
       "    <tr>\n",
       "      <th>3</th>\n",
       "      <td>0.000000</td>\n",
       "      <td>0.100285</td>\n",
       "      <td>0.0000</td>\n",
       "      <td>0.092199</td>\n",
       "      <td>0.743590</td>\n",
       "      <td>1.0</td>\n",
       "      <td>0.0</td>\n",
       "      <td>0.0</td>\n",
       "      <td>0.0</td>\n",
       "      <td>0.0</td>\n",
       "      <td>0.0</td>\n",
       "      <td>1.0</td>\n",
       "      <td>0.068764</td>\n",
       "      <td>0.121254</td>\n",
       "      <td>0.015786</td>\n",
       "      <td>0.048193</td>\n",
       "      <td>0.377229</td>\n",
       "      <td>0.238757</td>\n",
       "      <td>0</td>\n",
       "    </tr>\n",
       "    <tr>\n",
       "      <th>4</th>\n",
       "      <td>0.333333</td>\n",
       "      <td>0.124588</td>\n",
       "      <td>0.0000</td>\n",
       "      <td>0.024823</td>\n",
       "      <td>0.487179</td>\n",
       "      <td>1.0</td>\n",
       "      <td>1.0</td>\n",
       "      <td>1.0</td>\n",
       "      <td>0.0</td>\n",
       "      <td>0.0</td>\n",
       "      <td>0.0</td>\n",
       "      <td>1.0</td>\n",
       "      <td>0.093919</td>\n",
       "      <td>0.063101</td>\n",
       "      <td>0.011840</td>\n",
       "      <td>0.032302</td>\n",
       "      <td>0.426368</td>\n",
       "      <td>0.298821</td>\n",
       "      <td>0</td>\n",
       "    </tr>\n",
       "  </tbody>\n",
       "</table>\n",
       "</div>"
      ],
      "text/plain": [
       "   Dependents  ApplicantIncome  CoapplicantIncome  LoanAmount  \\\n",
       "0    0.000000         0.062021             0.0000    0.106383   \n",
       "1    0.000000         0.221089             0.2208    0.306738   \n",
       "2    0.000000         0.209189             0.0000    0.186170   \n",
       "3    0.000000         0.100285             0.0000    0.092199   \n",
       "4    0.333333         0.124588             0.0000    0.024823   \n",
       "\n",
       "   Loan_Amount_Term  Credit_History  Gender_Male  Married_Yes  \\\n",
       "0          1.000000             1.0          1.0          0.0   \n",
       "1          0.743590             0.0          1.0          0.0   \n",
       "2          0.743590             1.0          1.0          0.0   \n",
       "3          0.743590             1.0          0.0          0.0   \n",
       "4          0.487179             1.0          1.0          1.0   \n",
       "\n",
       "   Education_Not Graduate  Self_Employed_Yes  Property_Area_Semiurban  \\\n",
       "0                     0.0                0.0                      1.0   \n",
       "1                     0.0                0.0                      0.0   \n",
       "2                     0.0                0.0                      0.0   \n",
       "3                     0.0                0.0                      0.0   \n",
       "4                     0.0                0.0                      0.0   \n",
       "\n",
       "   Property_Area_Urban  TotalIncome  TotalIncomeByPerson     Cuota    %Cuota  \\\n",
       "0                  0.0     0.029159             0.083882  0.010929  0.054989   \n",
       "1                  0.0     0.385990             0.420599  0.052520  0.033955   \n",
       "2                  1.0     0.181483             0.227620  0.031876  0.042957   \n",
       "3                  1.0     0.068764             0.121254  0.015786  0.048193   \n",
       "4                  1.0     0.093919             0.063101  0.011840  0.032302   \n",
       "\n",
       "   log_ApplicantIncome  log_TotalIncome  Loan_Status  \n",
       "0             0.279810         0.119676            1  \n",
       "1             0.569021         0.677390            1  \n",
       "2             0.554557         0.455514            0  \n",
       "3             0.377229         0.238757            0  \n",
       "4             0.426368         0.298821            0  "
      ]
     },
     "execution_count": 12,
     "metadata": {},
     "output_type": "execute_result"
    }
   ],
   "source": [
    "# Visualizacion Global de los datos test\n",
    "test.head()"
   ]
  },
  {
   "cell_type": "code",
   "execution_count": 13,
   "metadata": {
    "tags": []
   },
   "outputs": [],
   "source": [
    "X_train = train.drop(target, axis =1)\n",
    "y_train = train[target]\n",
    "\n",
    "X_test = test.drop(target, axis =1)\n",
    "y_test = test[target]"
   ]
  },
  {
   "cell_type": "markdown",
   "metadata": {
    "id": "D0QXbFmhWsHb"
   },
   "source": [
    "### Regresion Logistica Binaria"
   ]
  },
  {
   "cell_type": "code",
   "execution_count": 14,
   "metadata": {
    "executionInfo": {
     "elapsed": 9,
     "status": "ok",
     "timestamp": 1631345226016,
     "user": {
      "displayName": "ANDRE OMAR CHAVEZ PANDURO",
      "photoUrl": "https://lh3.googleusercontent.com/a-/AOh14GhhoQ1kbFXrI1LHS5aCbnzbQoTSVMlrpsL1-iED=s64",
      "userId": "14331399592622880507"
     },
     "user_tz": 300
    },
    "id": "wA9cWtSRWsKS",
    "tags": []
   },
   "outputs": [],
   "source": [
    "# Paso N°01: Elegimos y entrenamos un algoritmo de ML\n",
    "from sklearn.linear_model import LogisticRegression\n",
    "lr = LogisticRegression()"
   ]
  },
  {
   "cell_type": "code",
   "execution_count": 15,
   "metadata": {
    "tags": []
   },
   "outputs": [
    {
     "data": {
      "text/plain": [
       "{'C': 1.0,\n",
       " 'class_weight': None,\n",
       " 'dual': False,\n",
       " 'fit_intercept': True,\n",
       " 'intercept_scaling': 1,\n",
       " 'l1_ratio': None,\n",
       " 'max_iter': 100,\n",
       " 'multi_class': 'auto',\n",
       " 'n_jobs': None,\n",
       " 'penalty': 'l2',\n",
       " 'random_state': None,\n",
       " 'solver': 'lbfgs',\n",
       " 'tol': 0.0001,\n",
       " 'verbose': 0,\n",
       " 'warm_start': False}"
      ]
     },
     "execution_count": 15,
     "metadata": {},
     "output_type": "execute_result"
    }
   ],
   "source": [
    "#hiperparámetros del modelo estimado\n",
    "lr.get_params()"
   ]
  },
  {
   "cell_type": "code",
   "execution_count": 16,
   "metadata": {
    "executionInfo": {
     "elapsed": 283,
     "status": "ok",
     "timestamp": 1631346665289,
     "user": {
      "displayName": "ANDRE OMAR CHAVEZ PANDURO",
      "photoUrl": "https://lh3.googleusercontent.com/a-/AOh14GhhoQ1kbFXrI1LHS5aCbnzbQoTSVMlrpsL1-iED=s64",
      "userId": "14331399592622880507"
     },
     "user_tz": 300
    },
    "id": "mOAJ8SHOYKZE",
    "tags": []
   },
   "outputs": [
    {
     "data": {
      "text/html": [
       "<style>#sk-container-id-1 {color: black;}#sk-container-id-1 pre{padding: 0;}#sk-container-id-1 div.sk-toggleable {background-color: white;}#sk-container-id-1 label.sk-toggleable__label {cursor: pointer;display: block;width: 100%;margin-bottom: 0;padding: 0.3em;box-sizing: border-box;text-align: center;}#sk-container-id-1 label.sk-toggleable__label-arrow:before {content: \"▸\";float: left;margin-right: 0.25em;color: #696969;}#sk-container-id-1 label.sk-toggleable__label-arrow:hover:before {color: black;}#sk-container-id-1 div.sk-estimator:hover label.sk-toggleable__label-arrow:before {color: black;}#sk-container-id-1 div.sk-toggleable__content {max-height: 0;max-width: 0;overflow: hidden;text-align: left;background-color: #f0f8ff;}#sk-container-id-1 div.sk-toggleable__content pre {margin: 0.2em;color: black;border-radius: 0.25em;background-color: #f0f8ff;}#sk-container-id-1 input.sk-toggleable__control:checked~div.sk-toggleable__content {max-height: 200px;max-width: 100%;overflow: auto;}#sk-container-id-1 input.sk-toggleable__control:checked~label.sk-toggleable__label-arrow:before {content: \"▾\";}#sk-container-id-1 div.sk-estimator input.sk-toggleable__control:checked~label.sk-toggleable__label {background-color: #d4ebff;}#sk-container-id-1 div.sk-label input.sk-toggleable__control:checked~label.sk-toggleable__label {background-color: #d4ebff;}#sk-container-id-1 input.sk-hidden--visually {border: 0;clip: rect(1px 1px 1px 1px);clip: rect(1px, 1px, 1px, 1px);height: 1px;margin: -1px;overflow: hidden;padding: 0;position: absolute;width: 1px;}#sk-container-id-1 div.sk-estimator {font-family: monospace;background-color: #f0f8ff;border: 1px dotted black;border-radius: 0.25em;box-sizing: border-box;margin-bottom: 0.5em;}#sk-container-id-1 div.sk-estimator:hover {background-color: #d4ebff;}#sk-container-id-1 div.sk-parallel-item::after {content: \"\";width: 100%;border-bottom: 1px solid gray;flex-grow: 1;}#sk-container-id-1 div.sk-label:hover label.sk-toggleable__label {background-color: #d4ebff;}#sk-container-id-1 div.sk-serial::before {content: \"\";position: absolute;border-left: 1px solid gray;box-sizing: border-box;top: 0;bottom: 0;left: 50%;z-index: 0;}#sk-container-id-1 div.sk-serial {display: flex;flex-direction: column;align-items: center;background-color: white;padding-right: 0.2em;padding-left: 0.2em;position: relative;}#sk-container-id-1 div.sk-item {position: relative;z-index: 1;}#sk-container-id-1 div.sk-parallel {display: flex;align-items: stretch;justify-content: center;background-color: white;position: relative;}#sk-container-id-1 div.sk-item::before, #sk-container-id-1 div.sk-parallel-item::before {content: \"\";position: absolute;border-left: 1px solid gray;box-sizing: border-box;top: 0;bottom: 0;left: 50%;z-index: -1;}#sk-container-id-1 div.sk-parallel-item {display: flex;flex-direction: column;z-index: 1;position: relative;background-color: white;}#sk-container-id-1 div.sk-parallel-item:first-child::after {align-self: flex-end;width: 50%;}#sk-container-id-1 div.sk-parallel-item:last-child::after {align-self: flex-start;width: 50%;}#sk-container-id-1 div.sk-parallel-item:only-child::after {width: 0;}#sk-container-id-1 div.sk-dashed-wrapped {border: 1px dashed gray;margin: 0 0.4em 0.5em 0.4em;box-sizing: border-box;padding-bottom: 0.4em;background-color: white;}#sk-container-id-1 div.sk-label label {font-family: monospace;font-weight: bold;display: inline-block;line-height: 1.2em;}#sk-container-id-1 div.sk-label-container {text-align: center;}#sk-container-id-1 div.sk-container {/* jupyter's `normalize.less` sets `[hidden] { display: none; }` but bootstrap.min.css set `[hidden] { display: none !important; }` so we also need the `!important` here to be able to override the default hidden behavior on the sphinx rendered scikit-learn.org. See: https://github.com/scikit-learn/scikit-learn/issues/21755 */display: inline-block !important;position: relative;}#sk-container-id-1 div.sk-text-repr-fallback {display: none;}</style><div id=\"sk-container-id-1\" class=\"sk-top-container\"><div class=\"sk-text-repr-fallback\"><pre>LogisticRegression()</pre><b>In a Jupyter environment, please rerun this cell to show the HTML representation or trust the notebook. <br />On GitHub, the HTML representation is unable to render, please try loading this page with nbviewer.org.</b></div><div class=\"sk-container\" hidden><div class=\"sk-item\"><div class=\"sk-estimator sk-toggleable\"><input class=\"sk-toggleable__control sk-hidden--visually\" id=\"sk-estimator-id-1\" type=\"checkbox\" checked><label for=\"sk-estimator-id-1\" class=\"sk-toggleable__label sk-toggleable__label-arrow\">LogisticRegression</label><div class=\"sk-toggleable__content\"><pre>LogisticRegression()</pre></div></div></div></div></div>"
      ],
      "text/plain": [
       "LogisticRegression()"
      ]
     },
     "execution_count": 16,
     "metadata": {},
     "output_type": "execute_result"
    }
   ],
   "source": [
    "lr.fit(X_train,y_train) # Entrenamiento!"
   ]
  },
  {
   "cell_type": "code",
   "execution_count": 17,
   "metadata": {
    "tags": []
   },
   "outputs": [
    {
     "data": {
      "text/plain": [
       "array(['Dependents', 'ApplicantIncome', 'CoapplicantIncome', 'LoanAmount',\n",
       "       'Loan_Amount_Term', 'Credit_History', 'Gender_Male', 'Married_Yes',\n",
       "       'Education_Not Graduate', 'Self_Employed_Yes',\n",
       "       'Property_Area_Semiurban', 'Property_Area_Urban', 'TotalIncome',\n",
       "       'TotalIncomeByPerson', 'Cuota', '%Cuota', 'log_ApplicantIncome',\n",
       "       'log_TotalIncome'], dtype=object)"
      ]
     },
     "execution_count": 17,
     "metadata": {},
     "output_type": "execute_result"
    }
   ],
   "source": [
    "# variables\n",
    "lr.feature_names_in_"
   ]
  },
  {
   "cell_type": "code",
   "execution_count": 18,
   "metadata": {
    "tags": []
   },
   "outputs": [
    {
     "data": {
      "text/plain": [
       "array([[-0.04440156,  0.0295267 ,  0.42128025,  0.23943876,  0.06403001,\n",
       "        -3.35971872, -0.0969962 , -0.5471488 ,  0.38906241, -0.02640126,\n",
       "        -0.87696822, -0.02360208,  0.4424875 ,  0.67822263,  0.66442208,\n",
       "         0.84031043,  0.05114134, -0.43976352]])"
      ]
     },
     "execution_count": 18,
     "metadata": {},
     "output_type": "execute_result"
    }
   ],
   "source": [
    "# coeficientes del modelo\n",
    "lr.coef_"
   ]
  },
  {
   "cell_type": "code",
   "execution_count": 19,
   "metadata": {
    "tags": []
   },
   "outputs": [
    {
     "data": {
      "text/plain": [
       "array([0, 1], dtype=int64)"
      ]
     },
     "execution_count": 19,
     "metadata": {},
     "output_type": "execute_result"
    }
   ],
   "source": [
    "# clases que tenemos\n",
    "lr.classes_"
   ]
  },
  {
   "cell_type": "code",
   "execution_count": 20,
   "metadata": {
    "tags": []
   },
   "outputs": [
    {
     "data": {
      "text/plain": [
       "array([[0.83692346, 0.16307654],\n",
       "       [0.05234205, 0.94765795],\n",
       "       [0.67700855, 0.32299145],\n",
       "       [0.6705851 , 0.3294149 ],\n",
       "       [0.81302659, 0.18697341],\n",
       "       [0.69645025, 0.30354975],\n",
       "       [0.89769902, 0.10230098],\n",
       "       [0.68000878, 0.31999122],\n",
       "       [0.89749454, 0.10250546],\n",
       "       [0.86966725, 0.13033275],\n",
       "       [0.90660618, 0.09339382],\n",
       "       [0.79186287, 0.20813713],\n",
       "       [0.80304872, 0.19695128],\n",
       "       [0.81985185, 0.18014815],\n",
       "       [0.7840191 , 0.2159809 ],\n",
       "       [0.72763324, 0.27236676],\n",
       "       [0.77554828, 0.22445172],\n",
       "       [0.1244913 , 0.8755087 ],\n",
       "       [0.79682593, 0.20317407],\n",
       "       [0.8357878 , 0.1642122 ],\n",
       "       [0.86534438, 0.13465562],\n",
       "       [0.68851871, 0.31148129],\n",
       "       [0.76089774, 0.23910226],\n",
       "       [0.69195701, 0.30804299],\n",
       "       [0.79992012, 0.20007988],\n",
       "       [0.80891611, 0.19108389],\n",
       "       [0.66769027, 0.33230973],\n",
       "       [0.7340234 , 0.2659766 ],\n",
       "       [0.78041171, 0.21958829],\n",
       "       [0.90765961, 0.09234039],\n",
       "       [0.25364102, 0.74635898],\n",
       "       [0.04394639, 0.95605361],\n",
       "       [0.77090442, 0.22909558],\n",
       "       [0.72910727, 0.27089273],\n",
       "       [0.63898117, 0.36101883],\n",
       "       [0.04863617, 0.95136383],\n",
       "       [0.10922851, 0.89077149],\n",
       "       [0.80775079, 0.19224921],\n",
       "       [0.58797094, 0.41202906],\n",
       "       [0.22437745, 0.77562255],\n",
       "       [0.87518568, 0.12481432],\n",
       "       [0.67053196, 0.32946804],\n",
       "       [0.90065081, 0.09934919],\n",
       "       [0.74189437, 0.25810563],\n",
       "       [0.64698799, 0.35301201],\n",
       "       [0.68692967, 0.31307033],\n",
       "       [0.5673857 , 0.4326143 ],\n",
       "       [0.89046316, 0.10953684],\n",
       "       [0.78232189, 0.21767811],\n",
       "       [0.76780028, 0.23219972],\n",
       "       [0.07853257, 0.92146743],\n",
       "       [0.75605204, 0.24394796],\n",
       "       [0.67691669, 0.32308331],\n",
       "       [0.16407127, 0.83592873],\n",
       "       [0.66410353, 0.33589647],\n",
       "       [0.90257107, 0.09742893],\n",
       "       [0.70917339, 0.29082661],\n",
       "       [0.87259594, 0.12740406],\n",
       "       [0.11501001, 0.88498999],\n",
       "       [0.8915754 , 0.1084246 ],\n",
       "       [0.65139719, 0.34860281],\n",
       "       [0.71333787, 0.28666213],\n",
       "       [0.06813567, 0.93186433],\n",
       "       [0.79971102, 0.20028898],\n",
       "       [0.47577131, 0.52422869],\n",
       "       [0.79379489, 0.20620511],\n",
       "       [0.78880587, 0.21119413],\n",
       "       [0.07410549, 0.92589451],\n",
       "       [0.77559143, 0.22440857],\n",
       "       [0.59185279, 0.40814721],\n",
       "       [0.79813562, 0.20186438],\n",
       "       [0.79570863, 0.20429137],\n",
       "       [0.64010018, 0.35989982],\n",
       "       [0.82979227, 0.17020773],\n",
       "       [0.57193426, 0.42806574],\n",
       "       [0.89663087, 0.10336913],\n",
       "       [0.58209294, 0.41790706],\n",
       "       [0.7800476 , 0.2199524 ],\n",
       "       [0.6673184 , 0.3326816 ],\n",
       "       [0.72699218, 0.27300782],\n",
       "       [0.14423813, 0.85576187],\n",
       "       [0.86123059, 0.13876941],\n",
       "       [0.68679407, 0.31320593],\n",
       "       [0.7890778 , 0.2109222 ],\n",
       "       [0.90953721, 0.09046279],\n",
       "       [0.81157623, 0.18842377],\n",
       "       [0.89554267, 0.10445733],\n",
       "       [0.79168851, 0.20831149],\n",
       "       [0.87462195, 0.12537805],\n",
       "       [0.90653292, 0.09346708],\n",
       "       [0.88507083, 0.11492917],\n",
       "       [0.83794414, 0.16205586],\n",
       "       [0.78167336, 0.21832664],\n",
       "       [0.81267866, 0.18732134],\n",
       "       [0.04990541, 0.95009459],\n",
       "       [0.79876511, 0.20123489],\n",
       "       [0.80114533, 0.19885467],\n",
       "       [0.77449875, 0.22550125],\n",
       "       [0.67693676, 0.32306324],\n",
       "       [0.86268714, 0.13731286],\n",
       "       [0.8942318 , 0.1057682 ],\n",
       "       [0.79617555, 0.20382445],\n",
       "       [0.72603066, 0.27396934],\n",
       "       [0.67017643, 0.32982357],\n",
       "       [0.76564427, 0.23435573],\n",
       "       [0.07563852, 0.92436148],\n",
       "       [0.24446627, 0.75553373],\n",
       "       [0.1063071 , 0.8936929 ],\n",
       "       [0.87108096, 0.12891904],\n",
       "       [0.90083651, 0.09916349],\n",
       "       [0.60688803, 0.39311197],\n",
       "       [0.88097926, 0.11902074],\n",
       "       [0.5920061 , 0.4079939 ],\n",
       "       [0.77881525, 0.22118475],\n",
       "       [0.89833719, 0.10166281],\n",
       "       [0.14003261, 0.85996739],\n",
       "       [0.89575212, 0.10424788],\n",
       "       [0.64465226, 0.35534774],\n",
       "       [0.6056232 , 0.3943768 ],\n",
       "       [0.56369244, 0.43630756],\n",
       "       [0.2392775 , 0.7607225 ],\n",
       "       [0.8857732 , 0.1142268 ],\n",
       "       [0.4534412 , 0.5465588 ]])"
      ]
     },
     "execution_count": 20,
     "metadata": {},
     "output_type": "execute_result"
    }
   ],
   "source": [
    "# Estimaciones de probabilidad. Las estimaciones devueltas para todas las clases están ordenadas por la etiqueta de clases.\n",
    "# Es decir, la probabilidad que pertenesca a la clase 0 son los valores de la primera columna (indice 0)\n",
    "# Mientras que la probabilidad de pertenesca a la clase 1 son los valores de la segunda columna (indice 1)\n",
    "lr.predict_proba(X_test)"
   ]
  },
  {
   "cell_type": "code",
   "execution_count": 21,
   "metadata": {
    "executionInfo": {
     "elapsed": 284,
     "status": "ok",
     "timestamp": 1631346669651,
     "user": {
      "displayName": "ANDRE OMAR CHAVEZ PANDURO",
      "photoUrl": "https://lh3.googleusercontent.com/a-/AOh14GhhoQ1kbFXrI1LHS5aCbnzbQoTSVMlrpsL1-iED=s64",
      "userId": "14331399592622880507"
     },
     "user_tz": 300
    },
    "id": "nahjL0c9YKcp",
    "tags": []
   },
   "outputs": [
    {
     "data": {
      "text/plain": [
       "array([0.16307654, 0.94765795, 0.32299145, 0.3294149 , 0.18697341,\n",
       "       0.30354975, 0.10230098, 0.31999122, 0.10250546, 0.13033275,\n",
       "       0.09339382, 0.20813713, 0.19695128, 0.18014815, 0.2159809 ,\n",
       "       0.27236676, 0.22445172, 0.8755087 , 0.20317407, 0.1642122 ,\n",
       "       0.13465562, 0.31148129, 0.23910226, 0.30804299, 0.20007988,\n",
       "       0.19108389, 0.33230973, 0.2659766 , 0.21958829, 0.09234039,\n",
       "       0.74635898, 0.95605361, 0.22909558, 0.27089273, 0.36101883,\n",
       "       0.95136383, 0.89077149, 0.19224921, 0.41202906, 0.77562255,\n",
       "       0.12481432, 0.32946804, 0.09934919, 0.25810563, 0.35301201,\n",
       "       0.31307033, 0.4326143 , 0.10953684, 0.21767811, 0.23219972,\n",
       "       0.92146743, 0.24394796, 0.32308331, 0.83592873, 0.33589647,\n",
       "       0.09742893, 0.29082661, 0.12740406, 0.88498999, 0.1084246 ,\n",
       "       0.34860281, 0.28666213, 0.93186433, 0.20028898, 0.52422869,\n",
       "       0.20620511, 0.21119413, 0.92589451, 0.22440857, 0.40814721,\n",
       "       0.20186438, 0.20429137, 0.35989982, 0.17020773, 0.42806574,\n",
       "       0.10336913, 0.41790706, 0.2199524 , 0.3326816 , 0.27300782,\n",
       "       0.85576187, 0.13876941, 0.31320593, 0.2109222 , 0.09046279,\n",
       "       0.18842377, 0.10445733, 0.20831149, 0.12537805, 0.09346708,\n",
       "       0.11492917, 0.16205586, 0.21832664, 0.18732134, 0.95009459,\n",
       "       0.20123489, 0.19885467, 0.22550125, 0.32306324, 0.13731286,\n",
       "       0.1057682 , 0.20382445, 0.27396934, 0.32982357, 0.23435573,\n",
       "       0.92436148, 0.75553373, 0.8936929 , 0.12891904, 0.09916349,\n",
       "       0.39311197, 0.11902074, 0.4079939 , 0.22118475, 0.10166281,\n",
       "       0.85996739, 0.10424788, 0.35534774, 0.3943768 , 0.43630756,\n",
       "       0.7607225 , 0.1142268 , 0.5465588 ])"
      ]
     },
     "execution_count": 21,
     "metadata": {},
     "output_type": "execute_result"
    }
   ],
   "source": [
    "lr.predict_proba(X_test)[:,1]   # Predicción de la probabilidad de Loan_Status = 1"
   ]
  },
  {
   "cell_type": "code",
   "execution_count": 22,
   "metadata": {
    "executionInfo": {
     "elapsed": 255,
     "status": "ok",
     "timestamp": 1631346674475,
     "user": {
      "displayName": "ANDRE OMAR CHAVEZ PANDURO",
      "photoUrl": "https://lh3.googleusercontent.com/a-/AOh14GhhoQ1kbFXrI1LHS5aCbnzbQoTSVMlrpsL1-iED=s64",
      "userId": "14331399592622880507"
     },
     "user_tz": 300
    },
    "id": "LKtu523U5cH_",
    "tags": []
   },
   "outputs": [
    {
     "data": {
      "text/plain": [
       "array([0, 1, 0, 0, 0, 0, 0, 0, 0, 0, 0, 0, 0, 0, 0, 0, 0, 1, 0, 0, 0, 0,\n",
       "       0, 0, 0, 0, 0, 0, 0, 0, 1, 1, 0, 0, 0, 1, 1, 0, 0, 1, 0, 0, 0, 0,\n",
       "       0, 0, 0, 0, 0, 0, 1, 0, 0, 1, 0, 0, 0, 0, 1, 0, 0, 0, 1, 0, 1, 0,\n",
       "       0, 1, 0, 0, 0, 0, 0, 0, 0, 0, 0, 0, 0, 0, 1, 0, 0, 0, 0, 0, 0, 0,\n",
       "       0, 0, 0, 0, 0, 0, 1, 0, 0, 0, 0, 0, 0, 0, 0, 0, 0, 1, 1, 1, 0, 0,\n",
       "       0, 0, 0, 0, 0, 1, 0, 0, 0, 0, 1, 0, 1], dtype=int64)"
      ]
     },
     "execution_count": 22,
     "metadata": {},
     "output_type": "execute_result"
    }
   ],
   "source": [
    "lr.predict(X_test)  # Predicción de la categoría"
   ]
  },
  {
   "cell_type": "code",
   "execution_count": 23,
   "metadata": {
    "executionInfo": {
     "elapsed": 357,
     "status": "ok",
     "timestamp": 1631341849100,
     "user": {
      "displayName": "ANDRE OMAR CHAVEZ PANDURO",
      "photoUrl": "https://lh3.googleusercontent.com/a-/AOh14GhhoQ1kbFXrI1LHS5aCbnzbQoTSVMlrpsL1-iED=s64",
      "userId": "14331399592622880507"
     },
     "user_tz": 300
    },
    "id": "3mPP_a_-BOc8",
    "tags": []
   },
   "outputs": [],
   "source": [
    "# Paso N°02: Con el algoritmo entrenado predecimos sobre la data de train y test!\n",
    "\n",
    "y_pred_train=lr.predict(X_train) # Prediccion sobre el train\n",
    "y_pred_test= lr.predict(X_test) # Prediccion sobre el test\n",
    "\n",
    "y_proba_test= lr.predict_proba(X_test)[:,1]   #Prediccion de probabilidades del target"
   ]
  },
  {
   "cell_type": "code",
   "execution_count": 24,
   "metadata": {
    "tags": []
   },
   "outputs": [],
   "source": [
    "# Paso N°03: Revisamos las metricas de validación!\n",
    "from sklearn import metrics as metrics"
   ]
  },
  {
   "cell_type": "code",
   "execution_count": 25,
   "metadata": {
    "tags": []
   },
   "outputs": [],
   "source": [
    "# https://scikit-learn.org/stable/modules/generated/sklearn.metrics.confusion_matrix.html\n",
    "VN, FP, FN, VP = metrics.confusion_matrix(y_train,y_pred_train).ravel()"
   ]
  },
  {
   "cell_type": "code",
   "execution_count": 26,
   "metadata": {
    "tags": []
   },
   "outputs": [
    {
     "data": {
      "text/plain": [
       "332"
      ]
     },
     "execution_count": 26,
     "metadata": {},
     "output_type": "execute_result"
    }
   ],
   "source": [
    "VN"
   ]
  },
  {
   "cell_type": "code",
   "execution_count": 27,
   "metadata": {
    "tags": []
   },
   "outputs": [
    {
     "data": {
      "text/plain": [
       "5"
      ]
     },
     "execution_count": 27,
     "metadata": {},
     "output_type": "execute_result"
    }
   ],
   "source": [
    "FP"
   ]
  },
  {
   "cell_type": "code",
   "execution_count": 28,
   "metadata": {
    "tags": []
   },
   "outputs": [
    {
     "data": {
      "text/plain": [
       "87"
      ]
     },
     "execution_count": 28,
     "metadata": {},
     "output_type": "execute_result"
    }
   ],
   "source": [
    "FN"
   ]
  },
  {
   "cell_type": "code",
   "execution_count": 29,
   "metadata": {
    "tags": []
   },
   "outputs": [
    {
     "data": {
      "text/plain": [
       "67"
      ]
     },
     "execution_count": 29,
     "metadata": {},
     "output_type": "execute_result"
    }
   ],
   "source": [
    "VP"
   ]
  },
  {
   "cell_type": "code",
   "execution_count": 30,
   "metadata": {
    "executionInfo": {
     "elapsed": 263,
     "status": "ok",
     "timestamp": 1631346687509,
     "user": {
      "displayName": "ANDRE OMAR CHAVEZ PANDURO",
      "photoUrl": "https://lh3.googleusercontent.com/a-/AOh14GhhoQ1kbFXrI1LHS5aCbnzbQoTSVMlrpsL1-iED=s64",
      "userId": "14331399592622880507"
     },
     "user_tz": 300
    },
    "id": "2kJoWEzyBOiZ",
    "tags": []
   },
   "outputs": [],
   "source": [
    "\n",
    "def metricas_confusion(y_train,y_pred_train,y_test,y_pred_test):\n",
    "    # Matriz de confusion\n",
    "    print(\"Matriz confusion: Train\")\n",
    "    cm_train = metrics.confusion_matrix(y_train,y_pred_train)\n",
    "    print(cm_train)\n",
    "\n",
    "    print(\"Matriz confusion: Test\")\n",
    "    cm_test = metrics.confusion_matrix(y_test,y_pred_test)\n",
    "    print(cm_test)\n",
    "\n",
    "    # Accuracy\n",
    "    print(\"Accuracy: Train\")\n",
    "    accuracy_train=metrics.accuracy_score(y_train,y_pred_train)\n",
    "    print(accuracy_train)\n",
    "\n",
    "    print(\"Accuracy: Test\")\n",
    "    accuracy_test=metrics.accuracy_score(y_test,y_pred_test)\n",
    "    print(accuracy_test)\n",
    "\n",
    "    # Precision o Aporte del Modelo\n",
    "    print(\"Precision: Train\")\n",
    "    precision_train=metrics.precision_score(y_train,y_pred_train)\n",
    "    print(precision_train)\n",
    "\n",
    "    print(\"Precision: Test\")\n",
    "    precision_test=metrics.precision_score(y_test,y_pred_test)\n",
    "    print(precision_test)\n",
    "\n",
    "    # Recall o Sensibilidad \n",
    "    print(\"Recall: Train\")\n",
    "    recall_train=metrics.recall_score(y_train,y_pred_train)\n",
    "    print(recall_train)\n",
    "\n",
    "    print(\"Recall: Test\")\n",
    "    recall_test=metrics.recall_score(y_test,y_pred_test)\n",
    "    print(recall_test)"
   ]
  },
  {
   "cell_type": "code",
   "execution_count": 31,
   "metadata": {
    "tags": []
   },
   "outputs": [
    {
     "name": "stdout",
     "output_type": "stream",
     "text": [
      "Matriz confusion: Train\n",
      "[[332   5]\n",
      " [ 87  67]]\n",
      "Matriz confusion: Test\n",
      "[[81  4]\n",
      " [21 17]]\n",
      "Accuracy: Train\n",
      "0.8126272912423625\n",
      "Accuracy: Test\n",
      "0.7967479674796748\n",
      "Precision: Train\n",
      "0.9305555555555556\n",
      "Precision: Test\n",
      "0.8095238095238095\n",
      "Recall: Train\n",
      "0.43506493506493504\n",
      "Recall: Test\n",
      "0.4473684210526316\n"
     ]
    }
   ],
   "source": [
    "metricas_confusion(y_train,y_pred_train,y_test,y_pred_test)"
   ]
  },
  {
   "cell_type": "code",
   "execution_count": 32,
   "metadata": {
    "tags": []
   },
   "outputs": [
    {
     "data": {
      "image/png": "[encoded data removed]",
      "text/plain": [
       "<Figure size 640x480 with 2 Axes>"
      ]
     },
     "metadata": {},
     "output_type": "display_data"
    }
   ],
   "source": [
    "# Mostrando la matriz de confusión para el conjunto de test\n",
    "cm = metrics.confusion_matrix(y_test,y_pred_test, labels=lr.classes_)\n",
    "disp = metrics.ConfusionMatrixDisplay(confusion_matrix=cm,\n",
    "                              display_labels=lr.classes_)\n",
    "disp.plot()\n",
    "plt.show()"
   ]
  },
  {
   "cell_type": "code",
   "execution_count": 33,
   "metadata": {
    "tags": []
   },
   "outputs": [
    {
     "name": "stdout",
     "output_type": "stream",
     "text": [
      "              precision    recall  f1-score   support\n",
      "\n",
      "           0       0.79      0.95      0.87        85\n",
      "           1       0.81      0.45      0.58        38\n",
      "\n",
      "    accuracy                           0.80       123\n",
      "   macro avg       0.80      0.70      0.72       123\n",
      "weighted avg       0.80      0.80      0.78       123\n",
      "\n"
     ]
    }
   ],
   "source": [
    "from sklearn.metrics import classification_report\n",
    "\n",
    "print(metrics.classification_report(y_test, y_pred_test))"
   ]
  },
  {
   "cell_type": "code",
   "execution_count": 34,
   "metadata": {
    "tags": []
   },
   "outputs": [],
   "source": [
    "from sklearn.metrics import roc_auc_score, roc_curve\n",
    "\n",
    "def plot_roc_curve(y, y_proba, label = ''):\n",
    "    '''\n",
    "    dibujar la curva roc para las probabilidades y target entregados\n",
    "    \n",
    "    params:\n",
    "    y: etiquetas originales\n",
    "    y_proba: probabilidades resultado del modelo\n",
    "    '''\n",
    "    \n",
    "    auc_roc = roc_auc_score(y, y_proba)\n",
    "    fpr, tpr, thresholds = roc_curve(y, y_proba)\n",
    "    \n",
    "    plt.figure(figsize=(8,6))\n",
    "    plt.rcParams.update({'font.size': 12})\n",
    "    plt.plot(fpr, fpr, c = 'red')\n",
    "    plt.plot(fpr, tpr, label= (f\"Curva ROC {label} (AUC = {auc_roc:.4f})\"))\n",
    "    plt.xlabel(\"FPR\")\n",
    "    plt.ylabel(\"TPR\")\n",
    "    plt.title(f\"Curva ROC {label}\")\n",
    "    plt.legend(loc=4, numpoints=1)"
   ]
  },
  {
   "cell_type": "code",
   "execution_count": 35,
   "metadata": {
    "tags": []
   },
   "outputs": [
    {
     "data": {
      "text/plain": [
       "0.7436532507739938"
      ]
     },
     "execution_count": 35,
     "metadata": {},
     "output_type": "execute_result"
    }
   ],
   "source": [
    "# ROC AUC\n",
    "roc_auc_score(y_test, y_proba_test)"
   ]
  },
  {
   "cell_type": "code",
   "execution_count": 36,
   "metadata": {
    "tags": []
   },
   "outputs": [
    {
     "data": {
      "image/png": "[encoded data removed]",
      "text/plain": [
       "<Figure size 800x600 with 1 Axes>"
      ]
     },
     "metadata": {},
     "output_type": "display_data"
    }
   ],
   "source": [
    "# Gráfica Curva ROC\n",
    "plot_roc_curve(y_test, y_proba_test, 'Regresión Logística')"
   ]
  },
  {
   "cell_type": "markdown",
   "metadata": {},
   "source": [
    "### Ejecutando con varios optimizadores y reguladores\n",
    "Construiremos el modelo de Regresión logística nuevamente para el mismo conjunto de datos, pero esta vez, usa diferentes valores de <b>solver</b> y <b>regularization</b>. Con esto podemos hacer comparaciones de varios modelos hasta encontrar el más adecuado:"
   ]
  },
  {
   "cell_type": "code",
   "execution_count": 37,
   "metadata": {
    "tags": []
   },
   "outputs": [],
   "source": [
    "from sklearn import metrics"
   ]
  },
  {
   "cell_type": "code",
   "execution_count": 38,
   "metadata": {
    "tags": []
   },
   "outputs": [
    {
     "name": "stdout",
     "output_type": "stream",
     "text": [
      "Solver = newton-cg, C = 0.01 ->Accuracy : 0.6910569105691057 ->AUC : 0.7120743034055728\n",
      "Solver = newton-cg, C = 0.02 ->Accuracy : 0.7073170731707317 ->AUC : 0.7173374613003096\n",
      "Solver = newton-cg, C = 0.05 ->Accuracy : 0.7804878048780488 ->AUC : 0.7207430340557275\n",
      "Solver = newton-cg, C = 0.1 ->Accuracy : 0.8130081300813008 ->AUC : 0.7244582043343654\n",
      "Solver = lbfgs, C = 0.01 ->Accuracy : 0.6910569105691057 ->AUC : 0.7120743034055728\n",
      "Solver = lbfgs, C = 0.02 ->Accuracy : 0.7073170731707317 ->AUC : 0.7173374613003096\n",
      "Solver = lbfgs, C = 0.05 ->Accuracy : 0.7804878048780488 ->AUC : 0.7207430340557275\n",
      "Solver = lbfgs, C = 0.1 ->Accuracy : 0.8130081300813008 ->AUC : 0.7244582043343654\n",
      "Solver = liblinear, C = 0.01 ->Accuracy : 0.6910569105691057 ->AUC : 0.7043343653250775\n",
      "Solver = liblinear, C = 0.02 ->Accuracy : 0.7073170731707317 ->AUC : 0.7139318885448916\n",
      "Solver = liblinear, C = 0.05 ->Accuracy : 0.7723577235772358 ->AUC : 0.7272445820433435\n",
      "Solver = liblinear, C = 0.1 ->Accuracy : 0.8130081300813008 ->AUC : 0.7359133126934985\n",
      "Solver = sag, C = 0.01 ->Accuracy : 0.6910569105691057 ->AUC : 0.7120743034055728\n",
      "Solver = sag, C = 0.02 ->Accuracy : 0.7073170731707317 ->AUC : 0.7173374613003096\n",
      "Solver = sag, C = 0.05 ->Accuracy : 0.7804878048780488 ->AUC : 0.7207430340557275\n",
      "Solver = sag, C = 0.1 ->Accuracy : 0.8130081300813008 ->AUC : 0.7244582043343654\n",
      "Solver = saga, C = 0.01 ->Accuracy : 0.6910569105691057 ->AUC : 0.7120743034055728\n",
      "Solver = saga, C = 0.02 ->Accuracy : 0.7073170731707317 ->AUC : 0.7173374613003096\n",
      "Solver = saga, C = 0.05 ->Accuracy : 0.7804878048780488 ->AUC : 0.7207430340557275\n",
      "Solver = saga, C = 0.1 ->Accuracy : 0.8130081300813008 ->AUC : 0.7244582043343654\n"
     ]
    }
   ],
   "source": [
    "# Parametros: \n",
    "# C: Inverso de la fuerza de regularización; debe ser un flotador positivo. Al igual que en las máquinas de vectores de \n",
    "# soporte, los valores más pequeños especifican una regularización más fuerte.\n",
    "\n",
    "solvers=['newton-cg', 'lbfgs', 'liblinear', 'sag', 'saga']\n",
    "Cs=[0.01,0.02,0.05,0.1]\n",
    "\n",
    "for s in solvers:\n",
    "    for c in Cs:\n",
    "        LR = LogisticRegression(C=c, solver=s).fit(X_train,y_train)\n",
    "        yhat = LR.predict(X_test)\n",
    "        yhat_prob = LR.predict_proba(X_test)[:,1]\n",
    "        print(\"Solver = \"+s+\", C = \"+str(c)+\n",
    "              \" ->Accuracy : \"+str(metrics.accuracy_score(y_test, yhat)) +\n",
    "             \" ->AUC : \"+str(roc_auc_score(y_test, yhat_prob)))"
   ]
  },
  {
   "cell_type": "code",
   "execution_count": 39,
   "metadata": {
    "tags": []
   },
   "outputs": [],
   "source": [
    "max_accuracy = metrics.accuracy_score(y_test, yhat)"
   ]
  },
  {
   "cell_type": "code",
   "execution_count": 40,
   "metadata": {
    "tags": []
   },
   "outputs": [
    {
     "name": "stdout",
     "output_type": "stream",
     "text": [
      "Precisión máxima: 0.8130081300813008\n"
     ]
    }
   ],
   "source": [
    "# max = tr(metrics.accuracy_score(y_test, yhat))\n",
    "# max_accuracy = max(metrics.accuracy_score(y_test, yhat))\n",
    "print(\"Precisión máxima:\", max_accuracy)"
   ]
  },
  {
   "cell_type": "code",
   "execution_count": 41,
   "metadata": {
    "tags": []
   },
   "outputs": [],
   "source": [
    "## Probando Decision Tree"
   ]
  },
  {
   "cell_type": "code",
   "execution_count": 42,
   "metadata": {
    "tags": []
   },
   "outputs": [],
   "source": [
    "from sklearn.tree import DecisionTreeClassifier\n",
    "from sklearn import tree"
   ]
  },
  {
   "cell_type": "code",
   "execution_count": 43,
   "metadata": {
    "tags": []
   },
   "outputs": [],
   "source": [
    "clf = DecisionTreeClassifier(random_state = 2)\n",
    "model_dt = clf.fit(X_train, y_train) "
   ]
  },
  {
   "cell_type": "code",
   "execution_count": 44,
   "metadata": {
    "tags": []
   },
   "outputs": [],
   "source": [
    "pred = model_dt.predict(X_test)"
   ]
  },
  {
   "cell_type": "code",
   "execution_count": 45,
   "metadata": {
    "tags": []
   },
   "outputs": [
    {
     "name": "stdout",
     "output_type": "stream",
     "text": [
      "              precision    recall  f1-score   support\n",
      "\n",
      "           0       0.76      0.55      0.64        85\n",
      "           1       0.38      0.61      0.46        38\n",
      "\n",
      "    accuracy                           0.57       123\n",
      "   macro avg       0.57      0.58      0.55       123\n",
      "weighted avg       0.64      0.57      0.59       123\n",
      "\n"
     ]
    }
   ],
   "source": [
    "print(metrics.classification_report(y_test, pred))"
   ]
  },
  {
   "cell_type": "code",
   "execution_count": 46,
   "metadata": {
    "tags": []
   },
   "outputs": [
    {
     "data": {
      "image/png": "[encoded data removed]",
      "text/plain": [
       "<Figure size 800x600 with 1 Axes>"
      ]
     },
     "metadata": {},
     "output_type": "display_data"
    }
   ],
   "source": [
    "y_proba_test = model_dt.predict_proba(X_test)[:,1]\n",
    "plot_roc_curve(y_test, y_proba_test, 'Decision Tree')"
   ]
  },
  {
   "cell_type": "code",
   "execution_count": 47,
   "metadata": {
    "tags": []
   },
   "outputs": [],
   "source": [
    "## Probando Random Forest"
   ]
  },
  {
   "cell_type": "code",
   "execution_count": 48,
   "metadata": {
    "tags": []
   },
   "outputs": [],
   "source": [
    "from sklearn.ensemble import RandomForestClassifier"
   ]
  },
  {
   "cell_type": "code",
   "execution_count": 49,
   "metadata": {
    "tags": []
   },
   "outputs": [],
   "source": [
    "rfc = RandomForestClassifier(max_depth = 25, random_state = 0)\n",
    "model_rfc = rfc.fit(X_train, y_train)\n",
    "pred_rfc = model_rfc.predict(X_test)"
   ]
  },
  {
   "cell_type": "code",
   "execution_count": 50,
   "metadata": {
    "tags": []
   },
   "outputs": [
    {
     "name": "stdout",
     "output_type": "stream",
     "text": [
      "              precision    recall  f1-score   support\n",
      "\n",
      "           0       0.82      0.87      0.85        85\n",
      "           1       0.67      0.58      0.62        38\n",
      "\n",
      "    accuracy                           0.78       123\n",
      "   macro avg       0.74      0.72      0.73       123\n",
      "weighted avg       0.77      0.78      0.78       123\n",
      "\n"
     ]
    }
   ],
   "source": [
    "print(metrics.classification_report(y_test, pred_rfc))"
   ]
  },
  {
   "cell_type": "code",
   "execution_count": 51,
   "metadata": {
    "tags": []
   },
   "outputs": [
    {
     "data": {
      "image/png": "[encoded data removed]",
      "text/plain": [
       "<Figure size 800x600 with 1 Axes>"
      ]
     },
     "metadata": {},
     "output_type": "display_data"
    }
   ],
   "source": [
    "y_proba_test = model_rfc.predict_proba(X_test)[:,1]\n",
    "plot_roc_curve(y_test, y_proba_test, 'Random Forest')"
   ]
  },
  {
   "cell_type": "markdown",
   "metadata": {},
   "source": [
    "### Solidificando"
   ]
  },
  {
   "cell_type": "code",
   "execution_count": 60,
   "metadata": {},
   "outputs": [
    {
     "name": "stdout",
     "output_type": "stream",
     "text": [
      "<class 'pandas.core.frame.DataFrame'>\n",
      "RangeIndex: 123 entries, 0 to 122\n",
      "Data columns (total 18 columns):\n",
      " #   Column                   Non-Null Count  Dtype  \n",
      "---  ------                   --------------  -----  \n",
      " 0   Dependents               123 non-null    float64\n",
      " 1   ApplicantIncome          123 non-null    float64\n",
      " 2   CoapplicantIncome        123 non-null    float64\n",
      " 3   LoanAmount               123 non-null    float64\n",
      " 4   Loan_Amount_Term         123 non-null    float64\n",
      " 5   Credit_History           123 non-null    float64\n",
      " 6   Gender_Male              123 non-null    float64\n",
      " 7   Married_Yes              123 non-null    float64\n",
      " 8   Education_Not Graduate   123 non-null    float64\n",
      " 9   Self_Employed_Yes        123 non-null    float64\n",
      " 10  Property_Area_Semiurban  123 non-null    float64\n",
      " 11  Property_Area_Urban      123 non-null    float64\n",
      " 12  TotalIncome              123 non-null    float64\n",
      " 13  TotalIncomeByPerson      123 non-null    float64\n",
      " 14  Cuota                    123 non-null    float64\n",
      " 15  %Cuota                   123 non-null    float64\n",
      " 16  log_ApplicantIncome      123 non-null    float64\n",
      " 17  log_TotalIncome          123 non-null    float64\n",
      "dtypes: float64(18)\n",
      "memory usage: 17.4 KB\n"
     ]
    }
   ],
   "source": [
    "X_test.info()"
   ]
  },
  {
   "cell_type": "code",
   "execution_count": 56,
   "metadata": {},
   "outputs": [
    {
     "data": {
      "text/plain": [
       "array([0, 1, 1, 0, 0, 0, 0, 0, 0, 0, 0, 0, 0, 1, 1, 0, 0, 1, 0, 0, 0, 1,\n",
       "       0, 0, 0, 0, 0, 0, 0, 0, 1, 1, 0, 0, 0, 1, 1, 0, 1, 1, 0, 0, 0, 0,\n",
       "       0, 0, 0, 0, 1, 0, 1, 0, 0, 1, 0, 0, 0, 0, 1, 0, 1, 0, 1, 0, 0, 0,\n",
       "       0, 1, 0, 0, 0, 1, 0, 0, 0, 0, 1, 0, 1, 0, 1, 0, 1, 0, 0, 0, 0, 0,\n",
       "       0, 0, 0, 0, 0, 0, 1, 0, 0, 0, 1, 1, 0, 0, 0, 0, 0, 1, 1, 1, 0, 0,\n",
       "       0, 0, 0, 0, 0, 1, 0, 1, 0, 0, 1, 0, 0], dtype=int64)"
      ]
     },
     "execution_count": 56,
     "metadata": {},
     "output_type": "execute_result"
    }
   ],
   "source": [
    "pred_rfc"
   ]
  },
  {
   "cell_type": "code",
   "execution_count": 65,
   "metadata": {},
   "outputs": [
    {
     "name": "stdout",
     "output_type": "stream",
     "text": [
      "Porcentaje de personas que aprueban el prestamo: 26.83 %\n",
      "Porcentaje de personas que no aprueban el prestamo: 73.17 %\n"
     ]
    }
   ],
   "source": [
    "cantidad_total = len(pred_rfc)\n",
    "cantidad_aprobados = sum(pred_rfc == 1)\n",
    "cantidad_no_aprobados = sum(pred_rfc == 0)\n",
    "\n",
    "porcentaje_aprobados = round((cantidad_aprobados / cantidad_total)*100, 2)\n",
    "porcentaje_no_aprobados = round((cantidad_no_aprobados / cantidad_total)*100, 2)\n",
    "\n",
    "print(\"Porcentaje de personas que aprueban el prestamo:\", porcentaje_aprobados, \"%\")\n",
    "print(\"Porcentaje de personas que no aprueban el prestamo:\", porcentaje_no_aprobados, \"%\")"
   ]
  },
  {
   "cell_type": "code",
   "execution_count": 66,
   "metadata": {},
   "outputs": [
    {
     "name": "stdout",
     "output_type": "stream",
     "text": [
      "Porcentaje total de aciertos: 78 %\n"
     ]
    }
   ],
   "source": [
    "aciertos = sum(pred_rfc == y_test)\n",
    "porcentaje_aciertos = round((aciertos/cantidad_total)*100)\n",
    "\n",
    "print(\"Porcentaje total de aciertos:\", porcentaje_aciertos, \"%\")"
   ]
  },
  {
   "cell_type": "code",
   "execution_count": 64,
   "metadata": {},
   "outputs": [],
   "source": [
    "############################################################"
   ]
  }
 ],
 "metadata": {
  "colab": {
   "collapsed_sections": [],
   "name": "S03_Modelamiento_EntrenamientoyValidacion.ipynb",
   "provenance": []
  },
  "kernelspec": {
   "display_name": "Python 3 (ipykernel)",
   "language": "python",
   "name": "python3"
  },
  "language_info": {
   "codemirror_mode": {
    "name": "ipython",
    "version": 3
   },
   "file_extension": ".py",
   "mimetype": "text/x-python",
   "name": "python",
   "nbconvert_exporter": "python",
   "pygments_lexer": "ipython3",
   "version": "3.10.12"
  },
  "toc": {
   "base_numbering": 1,
   "nav_menu": {},
   "number_sections": true,
   "sideBar": true,
   "skip_h1_title": false,
   "title_cell": "Table of Contents",
   "title_sidebar": "Contents",
   "toc_cell": false,
   "toc_position": {
    "height": "calc(100% - 180px)",
    "left": "10px",
    "top": "150px",
    "width": "165px"
   },
   "toc_section_display": true,
   "toc_window_display": false
  },
  "varInspector": {
   "cols": {
    "lenName": 16,
    "lenType": 16,
    "lenVar": 40
   },
   "kernels_config": {
    "python": {
     "delete_cmd_postfix": "",
     "delete_cmd_prefix": "del ",
     "library": "var_list.py",
     "varRefreshCmd": "print(var_dic_list())"
    },
    "r": {
     "delete_cmd_postfix": ") ",
     "delete_cmd_prefix": "rm(",
     "library": "var_list.r",
     "varRefreshCmd": "cat(var_dic_list()) "
    }
   },
   "types_to_exclude": [
    "module",
    "function",
    "builtin_function_or_method",
    "instance",
    "_Feature"
   ],
   "window_display": false
  }
 },
 "nbformat": 4,
 "nbformat_minor": 4
}
